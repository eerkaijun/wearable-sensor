{
  "nbformat": 4,
  "nbformat_minor": 5,
  "metadata": {
    "colab": {
      "name": "WearableSensor.ipynb",
      "provenance": [],
      "collapsed_sections": []
    },
    "kernelspec": {
      "display_name": "Python 3",
      "language": "python",
      "name": "python3"
    },
    "language_info": {
      "codemirror_mode": {
        "name": "ipython",
        "version": 3
      },
      "file_extension": ".py",
      "mimetype": "text/x-python",
      "name": "python",
      "nbconvert_exporter": "python",
      "pygments_lexer": "ipython3",
      "version": "3.8.8"
    }
  },
  "cells": [
    {
      "cell_type": "markdown",
      "metadata": {
        "id": "MAJpGfiSRxNN"
      },
      "source": [
        "### Install and Import Dependencies"
      ],
      "id": "MAJpGfiSRxNN"
    },
    {
      "cell_type": "code",
      "metadata": {
        "id": "r3SaJwgSlBAY"
      },
      "source": [
        "!pip install tsfresh"
      ],
      "id": "r3SaJwgSlBAY",
      "execution_count": null,
      "outputs": []
    },
    {
      "cell_type": "code",
      "metadata": {
        "id": "72042606-f3b8-4869-8cbd-c045984ff1fe"
      },
      "source": [
        "import pandas as pd\n",
        "import numpy as np\n",
        "import tsfresh\n",
        "from sklearn.model_selection import train_test_split, LeaveOneOut\n",
        "from sklearn.ensemble import RandomForestClassifier\n",
        "from sklearn.metrics import classification_report, accuracy_score\n",
        "from sklearn.utils import shuffle\n",
        "import tensorflow as tf\n",
        "import os\n",
        "import itertools\n",
        "import matplotlib.pyplot as plt\n",
        "\n",
        "# keras goodies\n",
        "from tensorflow.keras.models import Sequential\n",
        "from tensorflow.keras.layers import Dense, Activation, Flatten, Conv1D, Dropout, MaxPooling1D, BatchNormalization, LSTM, SimpleRNN, ConvLSTM2D\n",
        "from tensorflow.keras import optimizers\n",
        "from tensorflow.keras import regularizers\n",
        "from tensorflow.keras import metrics as kmetrics\n",
        "import tensorflow.keras.backend as K"
      ],
      "id": "72042606-f3b8-4869-8cbd-c045984ff1fe",
      "execution_count": null,
      "outputs": []
    },
    {
      "cell_type": "code",
      "metadata": {
        "colab": {
          "resources": {
            "http://localhost:8080/nbextensions/google.colab/files.js": {
              "data": "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",
              "ok": true,
              "headers": [
                [
                  "content-type",
                  "application/javascript"
                ]
              ],
              "status": 200,
              "status_text": ""
            }
          },
          "base_uri": "https://localhost:8080/",
          "height": 73
        },
        "id": "dE7qJaIXk5-6",
        "outputId": "269c7a44-ea1e-422a-d919-18dce49dec1c"
      },
      "source": [
        "from google.colab import files\n",
        "uploaded = files.upload()"
      ],
      "id": "dE7qJaIXk5-6",
      "execution_count": null,
      "outputs": [
        {
          "output_type": "display_data",
          "data": {
            "text/html": [
              "\n",
              "     <input type=\"file\" id=\"files-262b02a9-e836-4de8-b5ce-3c53b4508d1a\" name=\"files[]\" multiple disabled\n",
              "        style=\"border:none\" />\n",
              "     <output id=\"result-262b02a9-e836-4de8-b5ce-3c53b4508d1a\">\n",
              "      Upload widget is only available when the cell has been executed in the\n",
              "      current browser session. Please rerun this cell to enable.\n",
              "      </output>\n",
              "      <script src=\"/nbextensions/google.colab/files.js\"></script> "
            ],
            "text/plain": [
              "<IPython.core.display.HTML object>"
            ]
          },
          "metadata": {}
        },
        {
          "output_type": "stream",
          "name": "stdout",
          "text": [
            "Saving Respeck_recordings_clean.csv to Respeck_recordings_clean (1).csv\n"
          ]
        }
      ]
    },
    {
      "cell_type": "markdown",
      "metadata": {
        "id": "-m5gFWR4Rusx"
      },
      "source": [
        "### Data Cleaning"
      ],
      "id": "-m5gFWR4Rusx"
    },
    {
      "cell_type": "code",
      "metadata": {
        "colab": {
          "base_uri": "https://localhost:8080/"
        },
        "id": "2abacbfb-9269-4bc0-bc4e-6631c453f065",
        "outputId": "3148e964-cd44-48e3-d3fb-3eda94880193"
      },
      "source": [
        "base_df = pd.read_csv('Respeck_recordings_clean (1).csv')"
      ],
      "id": "2abacbfb-9269-4bc0-bc4e-6631c453f065",
      "execution_count": null,
      "outputs": [
        {
          "output_type": "stream",
          "name": "stderr",
          "text": [
            "/usr/local/lib/python3.7/dist-packages/IPython/core/interactiveshell.py:2718: DtypeWarning: Columns (11) have mixed types.Specify dtype option on import or set low_memory=False.\n",
            "  interactivity=interactivity, compiler=compiler, result=result)\n"
          ]
        }
      ]
    },
    {
      "cell_type": "code",
      "metadata": {
        "colab": {
          "base_uri": "https://localhost:8080/"
        },
        "id": "7f0cd1e8-b402-4e94-9eca-e97434607be4",
        "outputId": "1b3097a6-d037-4c31-dd09-3a1fcc828652"
      },
      "source": [
        "len(base_df)"
      ],
      "id": "7f0cd1e8-b402-4e94-9eca-e97434607be4",
      "execution_count": null,
      "outputs": [
        {
          "output_type": "execute_result",
          "data": {
            "text/plain": [
              "492675"
            ]
          },
          "metadata": {},
          "execution_count": 23
        }
      ]
    },
    {
      "cell_type": "code",
      "metadata": {
        "colab": {
          "base_uri": "https://localhost:8080/"
        },
        "id": "YS0bP7P8oLmD",
        "outputId": "2d6ed8b0-7ca5-429f-c904-06bd41e10678"
      },
      "source": [
        "# Let's remove the general movement recordings\n",
        "base_df = base_df[base_df['activity_type'] != 'Movement']\n",
        "len(base_df)"
      ],
      "id": "YS0bP7P8oLmD",
      "execution_count": null,
      "outputs": [
        {
          "output_type": "execute_result",
          "data": {
            "text/plain": [
              "457294"
            ]
          },
          "metadata": {},
          "execution_count": 24
        }
      ]
    },
    {
      "cell_type": "code",
      "metadata": {
        "id": "itCG6sm5p8Xh"
      },
      "source": [
        "base_df.reset_index(inplace=True)"
      ],
      "id": "itCG6sm5p8Xh",
      "execution_count": null,
      "outputs": []
    },
    {
      "cell_type": "code",
      "metadata": {
        "id": "390365f5-faf5-4210-a643-5b8b2833e570"
      },
      "source": [
        "columns_of_interest = ['accel_x', 'accel_y', 'accel_z', 'gyro_x', 'gyro_y', 'gyro_z']"
      ],
      "id": "390365f5-faf5-4210-a643-5b8b2833e570",
      "execution_count": null,
      "outputs": []
    },
    {
      "cell_type": "code",
      "metadata": {
        "id": "0f57d831-a18f-4177-ab38-6642ea150600"
      },
      "source": [
        "nan_indices = set()\n",
        "for i in range(len(base_df)):\n",
        "    for col in columns_of_interest:\n",
        "        if pd.isnull(base_df.loc[i, col]):\n",
        "            nan_indices.add(i)"
      ],
      "id": "0f57d831-a18f-4177-ab38-6642ea150600",
      "execution_count": null,
      "outputs": []
    },
    {
      "cell_type": "code",
      "metadata": {
        "colab": {
          "base_uri": "https://localhost:8080/"
        },
        "id": "nVti00PCqaCU",
        "outputId": "7420be33-73df-43a8-e0fc-dd48860cc5bc"
      },
      "source": [
        "nan_indices"
      ],
      "id": "nVti00PCqaCU",
      "execution_count": null,
      "outputs": [
        {
          "output_type": "execute_result",
          "data": {
            "text/plain": [
              "{315394}"
            ]
          },
          "metadata": {},
          "execution_count": 93
        }
      ]
    },
    {
      "cell_type": "code",
      "metadata": {
        "id": "d4e406b7-a4c3-4ea2-8311-ad87ad37c9ec"
      },
      "source": [
        "base_df.drop(list(nan_indices), inplace=True)"
      ],
      "id": "d4e406b7-a4c3-4ea2-8311-ad87ad37c9ec",
      "execution_count": null,
      "outputs": []
    },
    {
      "cell_type": "code",
      "metadata": {
        "id": "L7VFjSLPezJB"
      },
      "source": [
        "# cleaning data\n",
        "df_respeck = base_df[(base_df['activity_type']=='Standing') & (base_df['accel_y'] < -0.5)]\n",
        "df_respeck = pd.concat([df_respeck, base_df[(base_df['activity_type']=='Walking at normal speed') & (base_df['accel_y'] < 0.5)]])\n",
        "df_respeck = pd.concat([df_respeck, base_df[(base_df['activity_type']=='Climbing stairs') & (base_df['accel_y'] < 0)]])\n",
        "df_respeck = pd.concat([df_respeck, base_df[(base_df['activity_type']=='Desk work') & (base_df['accel_y'] < -0.5)]])\n",
        "df_respeck = pd.concat([df_respeck, base_df[(base_df['activity_type']=='Sitting') & (base_df['accel_y'] < -0.5)]])\n",
        "df_respeck = pd.concat([df_respeck, base_df[(base_df['activity_type']=='Sitting bent forward') & (base_df['accel_y'] < -0.25)]])\n",
        "df_respeck = pd.concat([df_respeck, base_df[(base_df['activity_type']=='Sitting bent backward') & (base_df['accel_y'] < 0)]])\n",
        "df_respeck = pd.concat([df_respeck, base_df[(base_df['activity_type']=='Lying down on back')]])\n",
        "df_respeck = pd.concat([df_respeck, base_df[(base_df['activity_type']=='Lying down on stomach')]])\n",
        "df_respeck = pd.concat([df_respeck, base_df[(base_df['activity_type']=='Lying down left')]])\n",
        "df_respeck = pd.concat([df_respeck, base_df[(base_df['activity_type']=='Lying down right')]])\n",
        "df_respeck = pd.concat([df_respeck, base_df[(base_df['activity_type']=='Falling on the left')]])\n",
        "df_respeck = pd.concat([df_respeck, base_df[(base_df['activity_type']=='Falling on the right')]])\n",
        "df_respeck = pd.concat([df_respeck, base_df[(base_df['activity_type']=='Falling on knees')]])\n",
        "df_respeck = pd.concat([df_respeck, base_df[(base_df['activity_type']=='Falling on the back')]])\n",
        "df_respeck = pd.concat([df_respeck, base_df[(base_df['activity_type']=='Running')]])\n",
        "base_df = pd.concat([df_respeck, base_df[(base_df['activity_type']=='Descending stairs') & (base_df['accel_x'] > -0.5) & (base_df['accel_y'] < 0.5)]])\n",
        "#base_df.reset_index(inplace=True)"
      ],
      "id": "L7VFjSLPezJB",
      "execution_count": null,
      "outputs": []
    },
    {
      "cell_type": "code",
      "metadata": {
        "id": "NtIEGP4bZCQ-"
      },
      "source": [
        "base_df_Kai = base_df[base_df['subject_id'] == 's1800883']\n",
        "base_df = base_df[base_df['subject_id'] != 's1800883']\n",
        "#base_df_Kai.reset_index(inplace=True)\n",
        "#base_df.reset_index(inplace=True)"
      ],
      "id": "NtIEGP4bZCQ-",
      "execution_count": null,
      "outputs": []
    },
    {
      "cell_type": "code",
      "metadata": {
        "colab": {
          "base_uri": "https://localhost:8080/",
          "height": 749
        },
        "id": "T4O9QDwlbEQ7",
        "outputId": "1d650a30-54f3-4b4f-bace-9febd55c94f3"
      },
      "source": [
        "df_respeck = base_df[base_df.activity_type == 'Descending stairs'].reset_index(drop=True)\n",
        "\n",
        "fig, ax = plt.subplots(2, 1, figsize=(12, 12))\n",
        "\n",
        "# plot respeck\n",
        "ax[0].plot(df_respeck['accel_x'], label=\"accel_x\")\n",
        "ax[0].plot(df_respeck['accel_y'], label=\"accel_y\")\n",
        "ax[0].plot(df_respeck['accel_z'], label=\"accel_z\")\n",
        "ax[0].legend()\n",
        "\n",
        "ax[0].set_title(f\"{df_respeck['sensor_type'].values[0]} - {df_respeck['activity_type'].values[0]} \\n Accelerometer data\")\n",
        "\n",
        "ax[1].plot(df_respeck['gyro_x'], label=\"gyro_x\")\n",
        "ax[1].plot(df_respeck['gyro_y'], label=\"gyro_y\")\n",
        "ax[1].plot(df_respeck['gyro_z'], label=\"gyro_z\")\n",
        "ax[1].legend()\n",
        "\n",
        "ax[1].set_title(f\"{df_respeck['sensor_type'].values[0]} - {df_respeck['activity_type'].values[0]} \\n Gyroscope data\")"
      ],
      "id": "T4O9QDwlbEQ7",
      "execution_count": null,
      "outputs": [
        {
          "output_type": "execute_result",
          "data": {
            "text/plain": [
              "Text(0.5, 1.0, 'Respeck - Descending stairs \\n Gyroscope data')"
            ]
          },
          "metadata": {},
          "execution_count": 96
        },
        {
          "output_type": "display_data",
          "data": {
            "image/png": "[encoded data removed]",
            "text/plain": [
              "<Figure size 864x864 with 2 Axes>"
            ]
          },
          "metadata": {
            "needs_background": "light"
          }
        }
      ]
    },
    {
      "cell_type": "code",
      "metadata": {
        "colab": {
          "base_uri": "https://localhost:8080/"
        },
        "id": "SWK9EOrUrQrc",
        "outputId": "fbd9a064-5d2e-49a6-de06-f89b12f1c072"
      },
      "source": [
        "len(base_df)"
      ],
      "id": "SWK9EOrUrQrc",
      "execution_count": null,
      "outputs": [
        {
          "output_type": "execute_result",
          "data": {
            "text/plain": [
              "434684"
            ]
          },
          "metadata": {},
          "execution_count": 97
        }
      ]
    },
    {
      "cell_type": "code",
      "metadata": {
        "id": "xe8ofucZbJR3"
      },
      "source": [
        "base_df = base_df.reset_index()\n",
        "base_df.drop(columns=['index'], inplace=True)"
      ],
      "id": "xe8ofucZbJR3",
      "execution_count": null,
      "outputs": []
    },
    {
      "cell_type": "code",
      "metadata": {
        "id": "-yLrF9nxbQcr"
      },
      "source": [
        "base_df_Kai = base_df_Kai.reset_index()\n",
        "base_df_Kai.drop(columns=['index'], inplace=True)"
      ],
      "id": "-yLrF9nxbQcr",
      "execution_count": null,
      "outputs": []
    },
    {
      "cell_type": "markdown",
      "metadata": {
        "id": "Z2N_JbmAR1R0"
      },
      "source": [
        "### Data Processing"
      ],
      "id": "Z2N_JbmAR1R0"
    },
    {
      "cell_type": "code",
      "metadata": {
        "id": "8VPIFnDiXrl6"
      },
      "source": [
        "def dataProcessPipeline(base_df, window_size, step_size):\n",
        "  window_number = 0\n",
        "  all_overlapping_windows = []\n",
        "\n",
        "  for rid, group in base_df.groupby(\"recording_id\"):\n",
        "    #print(f\"Processing rid = {rid}\")\n",
        "    \n",
        "    large_enough_windows = [window for window in group.rolling(window=window_size, min_periods=window_size) if len(window) == window_size]\n",
        "    \n",
        "    if len(large_enough_windows) == 0:\n",
        "      continue\n",
        "\n",
        "    overlapping_windows = large_enough_windows[::step_size] \n",
        "    \n",
        "    # then we will append a window ID to each window\n",
        "    for window in overlapping_windows:\n",
        "        window.loc[:, 'window_id'] = window_number\n",
        "        window_number += 1\n",
        "    \n",
        "    \n",
        "    all_overlapping_windows.append(pd.concat(overlapping_windows).reset_index(drop=True))\n",
        "  \n",
        "  return all_overlapping_windows"
      ],
      "id": "8VPIFnDiXrl6",
      "execution_count": null,
      "outputs": []
    },
    {
      "cell_type": "code",
      "metadata": {
        "colab": {
          "base_uri": "https://localhost:8080/"
        },
        "id": "psuTN9axYaFs",
        "outputId": "dcbfd25a-0160-4d47-bbe6-752c4675eb8e"
      },
      "source": [
        "all_overlapping_windows = dataProcessPipeline(base_df, 50, 25)\n",
        "all_overlapping_windows_test = dataProcessPipeline(base_df_Kai, 50, 25)"
      ],
      "id": "psuTN9axYaFs",
      "execution_count": null,
      "outputs": [
        {
          "output_type": "stream",
          "name": "stderr",
          "text": [
            "/usr/local/lib/python3.7/dist-packages/pandas/core/indexing.py:1596: SettingWithCopyWarning: \n",
            "A value is trying to be set on a copy of a slice from a DataFrame.\n",
            "Try using .loc[row_indexer,col_indexer] = value instead\n",
            "\n",
            "See the caveats in the documentation: https://pandas.pydata.org/pandas-docs/stable/user_guide/indexing.html#returning-a-view-versus-a-copy\n",
            "  self.obj[key] = _infer_fill_value(value)\n",
            "/usr/local/lib/python3.7/dist-packages/pandas/core/indexing.py:1763: SettingWithCopyWarning: \n",
            "A value is trying to be set on a copy of a slice from a DataFrame.\n",
            "Try using .loc[row_indexer,col_indexer] = value instead\n",
            "\n",
            "See the caveats in the documentation: https://pandas.pydata.org/pandas-docs/stable/user_guide/indexing.html#returning-a-view-versus-a-copy\n",
            "  isetter(loc, value)\n"
          ]
        }
      ]
    },
    {
      "cell_type": "code",
      "metadata": {
        "id": "99e3d171"
      },
      "source": [
        "window_size = 50 # 50 datapoints for the window size, which, at 25Hz, means 2 seconds\n",
        "step_size = 25 # this is 50% overlap\n",
        "\n",
        "window_number = 0 # start a counter at 0 to keep track of the window number\n",
        "\n",
        "all_overlapping_windows = []\n",
        "\n",
        "for rid, group in base_df.groupby(\"recording_id\"):\n",
        "\n",
        "    print(f\"Processing rid = {rid}\")\n",
        "    \n",
        "    large_enough_windows = [window for window in group.rolling(window=window_size, min_periods=window_size) if len(window) == window_size]\n",
        "    \n",
        "    if len(large_enough_windows) == 0:\n",
        "      continue\n",
        "\n",
        "    overlapping_windows = large_enough_windows[::step_size] \n",
        "    \n",
        "    # then we will append a window ID to each window\n",
        "    for window in overlapping_windows:\n",
        "        window.loc[:, 'window_id'] = window_number\n",
        "        window_number += 1\n",
        "    \n",
        "    \n",
        "    all_overlapping_windows.append(pd.concat(overlapping_windows).reset_index(drop=True))"
      ],
      "id": "99e3d171",
      "execution_count": null,
      "outputs": []
    },
    {
      "cell_type": "code",
      "metadata": {
        "colab": {
          "base_uri": "https://localhost:8080/"
        },
        "id": "nB9aVuuuvUy7",
        "outputId": "8d6c2b33-2fb7-4b3d-fcc7-f8ed46bda035"
      },
      "source": [
        "np.unique(base_df['activity_type'])"
      ],
      "id": "nB9aVuuuvUy7",
      "execution_count": null,
      "outputs": [
        {
          "output_type": "execute_result",
          "data": {
            "text/plain": [
              "array(['Climbing stairs', 'Descending stairs', 'Desk work',\n",
              "       'Falling on knees', 'Falling on the back', 'Falling on the left',\n",
              "       'Falling on the right', 'Lying down left', 'Lying down on back',\n",
              "       'Lying down on stomach', 'Lying down right', 'Running', 'Sitting',\n",
              "       'Sitting bent backward', 'Sitting bent forward', 'Standing',\n",
              "       'Walking at normal speed'], dtype=object)"
            ]
          },
          "metadata": {},
          "execution_count": 42
        }
      ]
    },
    {
      "cell_type": "code",
      "metadata": {
        "id": "8282a6cf",
        "colab": {
          "base_uri": "https://localhost:8080/"
        },
        "outputId": "0ba446c8-6fd4-4bbc-8547-9c27216c3ce9"
      },
      "source": [
        "final_sliding_windows = pd.concat(all_overlapping_windows).reset_index(drop=True)\n",
        "\n",
        "class_labels = {\n",
        "    'Climbing stairs': 3,\n",
        "    'Descending stairs': 3,\n",
        "    'Desk work': 1,\n",
        "    'Falling on knees': 0,\n",
        "    'Falling on the back': 0,\n",
        "    'Falling on the left': 0,\n",
        "    'Falling on the right': 0,\n",
        "    'Lying down left': 2,\n",
        "    'Lying down on back': 2,\n",
        "    'Lying down on stomach': 2,\n",
        "    'Lying down right': 2,\n",
        "    'Running': 4,\n",
        "    'Sitting': 1,\n",
        "    'Sitting bent backward': 1,\n",
        "    'Sitting bent forward': 1,\n",
        "    'Standing': 1,\n",
        "    'Walking at normal speed': 3 \n",
        "}\n",
        "\n",
        "X = []\n",
        "y = []\n",
        "\n",
        "for window_id, group in final_sliding_windows.groupby('window_id'):\n",
        "    #print(f\"window_id = {window_id}\")\n",
        "    \n",
        "    shape = group[columns_of_interest].values.shape\n",
        "    #print(f\"shape = {shape}\")\n",
        "    \n",
        "    X.append(group[columns_of_interest].values)\n",
        "    y.append(class_labels[group[\"activity_type\"].values[0]])\n",
        "\n",
        "    if class_labels[group[\"activity_type\"].values[0]] == 0:\n",
        "      #print(\"Oversampling...\")\n",
        "      for _ in range(80):\n",
        "        X.append(group[columns_of_interest].values)\n",
        "        y.append(class_labels[group[\"activity_type\"].values[0]])\n",
        "    if class_labels[group[\"activity_type\"].values[0]] == 4:\n",
        "      for _ in range(2):\n",
        "        X.append(group[columns_of_interest].values)\n",
        "        y.append(class_labels[group[\"activity_type\"].values[0]])\n",
        "\n",
        "X = np.asarray(X)\n",
        "y = np.asarray(y)\n",
        "X, y = shuffle(X, y)\n",
        "\n",
        "print(f\"X shape = {X.shape}\")\n",
        "print(f\"y shape = {y.shape}\")"
      ],
      "id": "8282a6cf",
      "execution_count": null,
      "outputs": [
        {
          "output_type": "stream",
          "name": "stdout",
          "text": [
            "X shape = (23784, 50, 6)\n",
            "y shape = (23784,)\n"
          ]
        }
      ]
    },
    {
      "cell_type": "code",
      "metadata": {
        "colab": {
          "base_uri": "https://localhost:8080/"
        },
        "id": "82g51w_leF6a",
        "outputId": "f850d2fb-ab26-47ed-9150-c26e0eeb23d2"
      },
      "source": [
        "X_test = []\n",
        "y_test = []\n",
        "final_sliding_windows_test = pd.concat(all_overlapping_windows_test).reset_index(drop=True)\n",
        "\n",
        "for window_id, group in final_sliding_windows_test.groupby('window_id'):\n",
        "    #print(f\"window_id = {window_id}\")\n",
        "    \n",
        "    shape = group[columns_of_interest].values.shape\n",
        "    #print(f\"shape = {shape}\")\n",
        "    \n",
        "    X_test.append(group[columns_of_interest].values)\n",
        "    y_test.append(class_labels[group[\"activity_type\"].values[0]])\n",
        "\n",
        "X_test = np.asarray(X_test)\n",
        "y_test = np.asarray(y_test)\n",
        "\n",
        "print(f\"X_test shape = {X_test.shape}\")\n",
        "print(f\"y_test shape = {y_test.shape}\")"
      ],
      "id": "82g51w_leF6a",
      "execution_count": null,
      "outputs": [
        {
          "output_type": "stream",
          "name": "stdout",
          "text": [
            "X_test shape = (376, 50, 6)\n",
            "y_test shape = (376,)\n"
          ]
        }
      ]
    },
    {
      "cell_type": "code",
      "metadata": {
        "colab": {
          "base_uri": "https://localhost:8080/"
        },
        "id": "QAiiJodiwmlO",
        "outputId": "78b5466f-687c-4678-b849-66a92dd55e32"
      },
      "source": [
        "for i in range(5):\n",
        "  print(i, \": \", len(y[y==i]))"
      ],
      "id": "QAiiJodiwmlO",
      "execution_count": null,
      "outputs": [
        {
          "output_type": "stream",
          "name": "stdout",
          "text": [
            "0 :  5427\n",
            "1 :  5951\n",
            "2 :  5296\n",
            "3 :  3243\n",
            "4 :  3867\n"
          ]
        }
      ]
    },
    {
      "cell_type": "code",
      "metadata": {
        "id": "qcgC7_1Iwy7j"
      },
      "source": [
        "X_train, X_test, y_train, y_test = train_test_split(X, y,\n",
        "                                                    test_size=0.1, train_size=0.9)\n",
        "\n",
        "y_train = np.asarray(pd.get_dummies(y_train), dtype=np.float32)\n",
        "y_test = np.asarray(pd.get_dummies(y_test), dtype=np.float32)"
      ],
      "id": "qcgC7_1Iwy7j",
      "execution_count": null,
      "outputs": []
    },
    {
      "cell_type": "code",
      "metadata": {
        "colab": {
          "base_uri": "https://localhost:8080/"
        },
        "id": "LYSl9lp2xZ8M",
        "outputId": "db692f67-a1c7-42cf-fd6e-ac8fb2bb7bff"
      },
      "source": [
        "print(f\"X_train shape = {X_train.shape}\")\n",
        "print(f\"y_train shape = {y_train.shape}\")\n",
        "\n",
        "print(f\"X_test shape = {X_test.shape}\")\n",
        "print(f\"y_test shape = {y_test.shape}\")"
      ],
      "id": "LYSl9lp2xZ8M",
      "execution_count": null,
      "outputs": [
        {
          "output_type": "stream",
          "name": "stdout",
          "text": [
            "X_train shape = (21405, 50, 6)\n",
            "y_train shape = (21405, 5)\n",
            "X_test shape = (2379, 50, 6)\n",
            "y_test shape = (2379, 5)\n"
          ]
        }
      ]
    },
    {
      "cell_type": "markdown",
      "metadata": {
        "id": "rHXr309AR9xa"
      },
      "source": [
        "### Model Training (CNN)"
      ],
      "id": "rHXr309AR9xa"
    },
    {
      "cell_type": "code",
      "metadata": {
        "colab": {
          "base_uri": "https://localhost:8080/"
        },
        "id": "7KMMoEHcVyJe",
        "outputId": "effd35d4-8301-4309-ad27-39a7e787c5e7"
      },
      "source": [
        "window_size = 50 # 50 datapoints for the window size, which, at 25Hz, means 2 seconds\n",
        "step_size = 25 # this is 50% overlap\n",
        "\n",
        "filters = 64\n",
        "kernel_size = 3\n",
        "n_features = 6\n",
        "activation='relu'\n",
        "n_classes = 5\n",
        "\n",
        "model = Sequential()\n",
        "\n",
        "model.add(Conv1D(filters=filters, kernel_size=kernel_size, activation='linear', \n",
        "                 input_shape=(window_size, n_features)))\n",
        "model.add(BatchNormalization())\n",
        "model.add(Activation(activation))\n",
        "\n",
        "model.add(Conv1D(filters=filters, kernel_size=kernel_size, activation='linear'))\n",
        "model.add(BatchNormalization())\n",
        "model.add(Activation(activation))\n",
        "\n",
        "model.add(Conv1D(filters=filters, kernel_size=kernel_size, activation='linear'))\n",
        "model.add(BatchNormalization())\n",
        "model.add(Activation(activation))\n",
        "\n",
        "model.add(Flatten())\n",
        "model.add(Dense(100, activation='relu'))\n",
        "model.add(Dense(n_classes, activation='softmax'))\n",
        "\n",
        "model.summary()"
      ],
      "id": "7KMMoEHcVyJe",
      "execution_count": null,
      "outputs": [
        {
          "output_type": "stream",
          "name": "stdout",
          "text": [
            "Model: \"sequential_1\"\n",
            "_________________________________________________________________\n",
            " Layer (type)                Output Shape              Param #   \n",
            "=================================================================\n",
            " conv1d (Conv1D)             (None, 48, 64)            1216      \n",
            "                                                                 \n",
            " batch_normalization (BatchN  (None, 48, 64)           256       \n",
            " ormalization)                                                   \n",
            "                                                                 \n",
            " activation (Activation)     (None, 48, 64)            0         \n",
            "                                                                 \n",
            " conv1d_1 (Conv1D)           (None, 46, 64)            12352     \n",
            "                                                                 \n",
            " batch_normalization_1 (Batc  (None, 46, 64)           256       \n",
            " hNormalization)                                                 \n",
            "                                                                 \n",
            " activation_1 (Activation)   (None, 46, 64)            0         \n",
            "                                                                 \n",
            " conv1d_2 (Conv1D)           (None, 44, 64)            12352     \n",
            "                                                                 \n",
            " batch_normalization_2 (Batc  (None, 44, 64)           256       \n",
            " hNormalization)                                                 \n",
            "                                                                 \n",
            " activation_2 (Activation)   (None, 44, 64)            0         \n",
            "                                                                 \n",
            " flatten (Flatten)           (None, 2816)              0         \n",
            "                                                                 \n",
            " dense (Dense)               (None, 100)               281700    \n",
            "                                                                 \n",
            " dense_1 (Dense)             (None, 5)                 505       \n",
            "                                                                 \n",
            "=================================================================\n",
            "Total params: 308,893\n",
            "Trainable params: 308,509\n",
            "Non-trainable params: 384\n",
            "_________________________________________________________________\n"
          ]
        }
      ]
    },
    {
      "cell_type": "code",
      "metadata": {
        "colab": {
          "base_uri": "https://localhost:8080/"
        },
        "id": "UmE3lFfSxeFc",
        "outputId": "54825b63-f0ea-4659-f9e7-c0ca371757e7"
      },
      "source": [
        "model.compile(\n",
        "    optimizer=optimizers.SGD(lr=0.001),\n",
        "    loss='binary_crossentropy',\n",
        "    metrics = ['accuracy'])"
      ],
      "id": "UmE3lFfSxeFc",
      "execution_count": null,
      "outputs": [
        {
          "output_type": "stream",
          "name": "stderr",
          "text": [
            "/usr/local/lib/python3.7/dist-packages/keras/optimizer_v2/gradient_descent.py:102: UserWarning: The `lr` argument is deprecated, use `learning_rate` instead.\n",
            "  super(SGD, self).__init__(name, **kwargs)\n"
          ]
        }
      ]
    },
    {
      "cell_type": "code",
      "metadata": {
        "id": "bYsH6Z3mVjdN",
        "colab": {
          "base_uri": "https://localhost:8080/"
        },
        "outputId": "a961f208-293f-4a6e-b66d-7549d024bdc2"
      },
      "source": [
        "model.fit(X_train, y_train,\n",
        "        batch_size=16, epochs=25)"
      ],
      "id": "bYsH6Z3mVjdN",
      "execution_count": null,
      "outputs": [
        {
          "output_type": "stream",
          "name": "stdout",
          "text": [
            "Epoch 1/25\n",
            "1338/1338 [==============================] - 17s 11ms/step - loss: 0.3760 - accuracy: 0.5388\n",
            "Epoch 2/25\n",
            "1338/1338 [==============================] - 15s 11ms/step - loss: 0.2615 - accuracy: 0.6711\n",
            "Epoch 3/25\n",
            "1338/1338 [==============================] - 15s 11ms/step - loss: 0.2280 - accuracy: 0.7262\n",
            "Epoch 4/25\n",
            "1338/1338 [==============================] - 15s 11ms/step - loss: 0.2084 - accuracy: 0.7507\n",
            "Epoch 5/25\n",
            "1338/1338 [==============================] - 15s 11ms/step - loss: 0.1971 - accuracy: 0.7716\n",
            "Epoch 6/25\n",
            "1338/1338 [==============================] - 15s 11ms/step - loss: 0.1870 - accuracy: 0.7985\n",
            "Epoch 7/25\n",
            "1338/1338 [==============================] - 15s 11ms/step - loss: 0.1788 - accuracy: 0.8398\n",
            "Epoch 8/25\n",
            "1338/1338 [==============================] - 15s 11ms/step - loss: 0.1648 - accuracy: 0.8874\n",
            "Epoch 9/25\n",
            "1338/1338 [==============================] - 15s 11ms/step - loss: 0.1338 - accuracy: 0.9263\n",
            "Epoch 10/25\n",
            "1338/1338 [==============================] - 15s 11ms/step - loss: 0.0907 - accuracy: 0.9342\n",
            "Epoch 11/25\n",
            "1338/1338 [==============================] - 15s 11ms/step - loss: 0.0792 - accuracy: 0.9399\n",
            "Epoch 12/25\n",
            "1338/1338 [==============================] - 15s 11ms/step - loss: 0.0743 - accuracy: 0.9422\n",
            "Epoch 13/25\n",
            "1338/1338 [==============================] - 15s 11ms/step - loss: 0.0697 - accuracy: 0.9445\n",
            "Epoch 14/25\n",
            "1338/1338 [==============================] - 15s 11ms/step - loss: 0.0689 - accuracy: 0.9457\n",
            "Epoch 15/25\n",
            "1338/1338 [==============================] - 15s 11ms/step - loss: 0.0670 - accuracy: 0.9471\n",
            "Epoch 16/25\n",
            "1338/1338 [==============================] - 15s 11ms/step - loss: 0.0636 - accuracy: 0.9478\n",
            "Epoch 17/25\n",
            "1338/1338 [==============================] - 15s 11ms/step - loss: 0.0645 - accuracy: 0.9472\n",
            "Epoch 18/25\n",
            "1338/1338 [==============================] - 15s 11ms/step - loss: 0.0628 - accuracy: 0.9494\n",
            "Epoch 19/25\n",
            "1338/1338 [==============================] - 15s 11ms/step - loss: 0.0597 - accuracy: 0.9516\n",
            "Epoch 20/25\n",
            "1338/1338 [==============================] - 15s 11ms/step - loss: 0.0578 - accuracy: 0.9527\n",
            "Epoch 21/25\n",
            "1338/1338 [==============================] - 15s 11ms/step - loss: 0.0586 - accuracy: 0.9527\n",
            "Epoch 22/25\n",
            "1338/1338 [==============================] - 15s 11ms/step - loss: 0.0568 - accuracy: 0.9556\n",
            "Epoch 23/25\n",
            "1338/1338 [==============================] - 15s 11ms/step - loss: 0.0554 - accuracy: 0.9555\n",
            "Epoch 24/25\n",
            "1338/1338 [==============================] - 15s 11ms/step - loss: 0.0562 - accuracy: 0.9542\n",
            "Epoch 25/25\n",
            "1338/1338 [==============================] - 15s 11ms/step - loss: 0.0530 - accuracy: 0.9567\n"
          ]
        },
        {
          "output_type": "execute_result",
          "data": {
            "text/plain": [
              "<keras.callbacks.History at 0x7f45b47bed50>"
            ]
          },
          "metadata": {},
          "execution_count": 50
        }
      ]
    },
    {
      "cell_type": "code",
      "metadata": {
        "id": "uDsYzVTfVnqQ",
        "colab": {
          "base_uri": "https://localhost:8080/"
        },
        "outputId": "4f108734-bdac-45ec-8bb0-b67f8508e07a"
      },
      "source": [
        "# stats for five classes\n",
        "y_pred_ohe = model.predict(X_test)\n",
        "y_pred_labels = np.argmax(y_pred_ohe, axis=1)\n",
        "#y_true_labels = np.argmax(y_test, axis=1)\n",
        "print(\"*\" * 80)\n",
        "print(\"Classification report\")\n",
        "print(\"*\" * 80)\n",
        "print(classification_report(y_test, y_pred_labels))\n",
        "#print(classification_report(y_true_labels, y_pred_labels))"
      ],
      "id": "uDsYzVTfVnqQ",
      "execution_count": null,
      "outputs": [
        {
          "output_type": "stream",
          "name": "stdout",
          "text": [
            "********************************************************************************\n",
            "Classification report\n",
            "********************************************************************************\n",
            "              precision    recall  f1-score   support\n",
            "\n",
            "           1       1.00      1.00      1.00       145\n",
            "           2       1.00      1.00      1.00       116\n",
            "           3       1.00      0.99      0.99        86\n",
            "           4       0.97      1.00      0.98        29\n",
            "\n",
            "    accuracy                           1.00       376\n",
            "   macro avg       0.99      1.00      0.99       376\n",
            "weighted avg       1.00      1.00      1.00       376\n",
            "\n"
          ]
        }
      ]
    },
    {
      "cell_type": "code",
      "metadata": {
        "colab": {
          "base_uri": "https://localhost:8080/",
          "height": 54
        },
        "id": "_bVPtAz8jAdT",
        "outputId": "436ca5e7-6f24-4004-9131-849ae4c18883"
      },
      "source": [
        "# Convert the model.\n",
        "converter = tf.lite.TFLiteConverter.from_keras_model(model)\n",
        "tflite_model = converter.convert()\n",
        "\n",
        "# Save the model.\n",
        "with open('model_cnn.tflite', 'wb') as f:\n",
        "  f.write(tflite_model)\n",
        "\n",
        "from google.colab import files\n",
        "files.download('model_cnn.tflite')"
      ],
      "id": "_bVPtAz8jAdT",
      "execution_count": null,
      "outputs": [
        {
          "output_type": "stream",
          "name": "stdout",
          "text": [
            "INFO:tensorflow:Assets written to: /tmp/tmptdg7t0ev/assets\n"
          ]
        },
        {
          "output_type": "stream",
          "name": "stderr",
          "text": [
            "WARNING:absl:Buffer deduplication procedure will be skipped when flatbuffer library is not properly loaded\n"
          ]
        },
        {
          "output_type": "display_data",
          "data": {
            "application/javascript": [
              "\n",
              "    async function download(id, filename, size) {\n",
              "      if (!google.colab.kernel.accessAllowed) {\n",
              "        return;\n",
              "      }\n",
              "      const div = document.createElement('div');\n",
              "      const label = document.createElement('label');\n",
              "      label.textContent = `Downloading \"${filename}\": `;\n",
              "      div.appendChild(label);\n",
              "      const progress = document.createElement('progress');\n",
              "      progress.max = size;\n",
              "      div.appendChild(progress);\n",
              "      document.body.appendChild(div);\n",
              "\n",
              "      const buffers = [];\n",
              "      let downloaded = 0;\n",
              "\n",
              "      const channel = await google.colab.kernel.comms.open(id);\n",
              "      // Send a message to notify the kernel that we're ready.\n",
              "      channel.send({})\n",
              "\n",
              "      for await (const message of channel.messages) {\n",
              "        // Send a message to notify the kernel that we're ready.\n",
              "        channel.send({})\n",
              "        if (message.buffers) {\n",
              "          for (const buffer of message.buffers) {\n",
              "            buffers.push(buffer);\n",
              "            downloaded += buffer.byteLength;\n",
              "            progress.value = downloaded;\n",
              "          }\n",
              "        }\n",
              "      }\n",
              "      const blob = new Blob(buffers, {type: 'application/binary'});\n",
              "      const a = document.createElement('a');\n",
              "      a.href = window.URL.createObjectURL(blob);\n",
              "      a.download = filename;\n",
              "      div.appendChild(a);\n",
              "      a.click();\n",
              "      div.remove();\n",
              "    }\n",
              "  "
            ],
            "text/plain": [
              "<IPython.core.display.Javascript object>"
            ]
          },
          "metadata": {}
        },
        {
          "output_type": "display_data",
          "data": {
            "application/javascript": [
              "download(\"download_ae2e7258-5a5e-4732-9995-1d683ff7258a\", \"model_cnn.tflite\", 1239324)"
            ],
            "text/plain": [
              "<IPython.core.display.Javascript object>"
            ]
          },
          "metadata": {}
        }
      ]
    },
    {
      "cell_type": "markdown",
      "metadata": {
        "id": "ZgQBC5_Sieeo"
      },
      "source": [
        "### Model Training (ConvLSTM)"
      ],
      "id": "ZgQBC5_Sieeo"
    },
    {
      "cell_type": "code",
      "metadata": {
        "colab": {
          "base_uri": "https://localhost:8080/"
        },
        "id": "ncq4eXAlihZv",
        "outputId": "14c7d869-a60c-41aa-c4cc-e68c3814f35c"
      },
      "source": [
        "# reshape into subsequences (samples, time steps, rows, cols, channels)\n",
        "n_steps, n_length = 2, 25\n",
        "X_train = X_train.reshape((X_train.shape[0], n_steps, 1, n_length, n_features))\n",
        "X_test = X_test.reshape((X_test.shape[0], n_steps, 1, n_length, n_features))\n",
        "\n",
        "# the ConvLSTM Network Model for the top hierarchy\n",
        "\n",
        "model = Sequential()\n",
        "model.add(ConvLSTM2D(filters=64, kernel_size=(1,3), activation='relu', input_shape=(n_steps, 1, n_length, n_features)))\n",
        "model.add(Dropout(0.5))\n",
        "model.add(Flatten())\n",
        "model.add(Dense(100, activation='relu'))\n",
        "model.add(Dense(n_classes, activation='softmax'))\n",
        "\n",
        "model.compile(loss='categorical_crossentropy', optimizer='adam', metrics=['accuracy'])\n",
        "\n",
        "model.summary()"
      ],
      "id": "ncq4eXAlihZv",
      "execution_count": null,
      "outputs": [
        {
          "output_type": "stream",
          "name": "stdout",
          "text": [
            "Model: \"sequential_4\"\n",
            "_________________________________________________________________\n",
            " Layer (type)                Output Shape              Param #   \n",
            "=================================================================\n",
            " conv_lstm2d_2 (ConvLSTM2D)  (None, 1, 23, 64)         54016     \n",
            "                                                                 \n",
            " dropout_2 (Dropout)         (None, 1, 23, 64)         0         \n",
            "                                                                 \n",
            " flatten_3 (Flatten)         (None, 1472)              0         \n",
            "                                                                 \n",
            " dense_6 (Dense)             (None, 100)               147300    \n",
            "                                                                 \n",
            " dense_7 (Dense)             (None, 5)                 505       \n",
            "                                                                 \n",
            "=================================================================\n",
            "Total params: 201,821\n",
            "Trainable params: 201,821\n",
            "Non-trainable params: 0\n",
            "_________________________________________________________________\n"
          ]
        }
      ]
    },
    {
      "cell_type": "code",
      "metadata": {
        "colab": {
          "base_uri": "https://localhost:8080/"
        },
        "id": "-zfsWXHSkX_s",
        "outputId": "5d8aae7d-3984-43e8-857f-9ba1917084a4"
      },
      "source": [
        "model.fit(X_train, y_train, epochs=8, batch_size=32)"
      ],
      "id": "-zfsWXHSkX_s",
      "execution_count": null,
      "outputs": [
        {
          "output_type": "stream",
          "name": "stdout",
          "text": [
            "Epoch 1/8\n",
            "669/669 [==============================] - 22s 29ms/step - loss: 0.2514 - accuracy: 0.9258\n",
            "Epoch 2/8\n",
            "669/669 [==============================] - 20s 29ms/step - loss: 0.0626 - accuracy: 0.9792\n",
            "Epoch 3/8\n",
            "669/669 [==============================] - 20s 29ms/step - loss: 0.0535 - accuracy: 0.9817\n",
            "Epoch 4/8\n",
            "669/669 [==============================] - 20s 30ms/step - loss: 0.0408 - accuracy: 0.9851\n",
            "Epoch 5/8\n",
            "669/669 [==============================] - 19s 29ms/step - loss: 0.0441 - accuracy: 0.9862\n",
            "Epoch 6/8\n",
            "669/669 [==============================] - 19s 29ms/step - loss: 0.0260 - accuracy: 0.9909\n",
            "Epoch 7/8\n",
            "669/669 [==============================] - 19s 29ms/step - loss: 0.0330 - accuracy: 0.9903\n",
            "Epoch 8/8\n",
            "669/669 [==============================] - 19s 29ms/step - loss: 0.0205 - accuracy: 0.9939\n"
          ]
        },
        {
          "output_type": "execute_result",
          "data": {
            "text/plain": [
              "<keras.callbacks.History at 0x7f45b409f610>"
            ]
          },
          "metadata": {},
          "execution_count": 78
        }
      ]
    },
    {
      "cell_type": "code",
      "metadata": {
        "colab": {
          "base_uri": "https://localhost:8080/"
        },
        "id": "PzP4IHCLkxZZ",
        "outputId": "edccc08c-87bf-4942-a4b2-b01586c4b711"
      },
      "source": [
        "# stats for five classes\n",
        "y_pred_ohe = model.predict(X_test)\n",
        "#y_pred_labels = np.argmax(y_pred_ohe, axis=1)\n",
        "y_true_labels = np.argmax(y_test, axis=1)\n",
        "print(\"*\" * 80)\n",
        "print(\"Classification report\")\n",
        "print(\"*\" * 80)\n",
        "#print(classification_report(y_test, y_pred_labels))\n",
        "print(classification_report(y_true_labels, y_pred_labels))"
      ],
      "id": "PzP4IHCLkxZZ",
      "execution_count": null,
      "outputs": [
        {
          "output_type": "stream",
          "name": "stdout",
          "text": [
            "********************************************************************************\n",
            "Classification report\n",
            "********************************************************************************\n",
            "              precision    recall  f1-score   support\n",
            "\n",
            "           0       1.00      1.00      1.00       561\n",
            "           1       1.00      1.00      1.00       614\n",
            "           2       1.00      0.99      1.00       511\n",
            "           3       0.99      0.98      0.99       296\n",
            "           4       0.98      1.00      0.99       397\n",
            "\n",
            "    accuracy                           0.99      2379\n",
            "   macro avg       0.99      0.99      0.99      2379\n",
            "weighted avg       0.99      0.99      0.99      2379\n",
            "\n"
          ]
        }
      ]
    },
    {
      "cell_type": "code",
      "metadata": {
        "colab": {
          "base_uri": "https://localhost:8080/",
          "height": 597
        },
        "id": "dKOdTGvolwrJ",
        "outputId": "fe01a1b4-1d80-4052-bd73-56e24f8f58e4"
      },
      "source": [
        "# Convert the model.\n",
        "converter = tf.lite.TFLiteConverter.from_keras_model(model)\n",
        "#converter.target_spec.supported_ops = [tf.lite.OpsSet.TFLITE_BUILTINS, tf.lite.OpsSet.SELECT_TF_OPS]\n",
        "#converter._experimental_lower_tensor_list_ops = False\n",
        "tflite_model = converter.convert()\n",
        "\n",
        "# Save the model.\n",
        "with open('model_conv_lstm.tflite', 'wb') as f:\n",
        "  f.write(tflite_model)\n",
        "\n",
        "from google.colab import files\n",
        "files.download('model_conv_lstm.tflite')"
      ],
      "id": "dKOdTGvolwrJ",
      "execution_count": null,
      "outputs": [
        {
          "output_type": "stream",
          "name": "stdout",
          "text": [
            "INFO:tensorflow:Assets written to: /tmp/tmp3egvh8cq/assets\n"
          ]
        },
        {
          "output_type": "stream",
          "name": "stderr",
          "text": [
            "INFO:tensorflow:Assets written to: /tmp/tmp3egvh8cq/assets\n"
          ]
        },
        {
          "output_type": "error",
          "ename": "ConverterError",
          "evalue": "ignored",
          "traceback": [
            "\u001b[0;31m---------------------------------------------------------------------------\u001b[0m",
            "\u001b[0;31mConverterError\u001b[0m                            Traceback (most recent call last)",
            "\u001b[0;32m<ipython-input-83-ae538a587320>\u001b[0m in \u001b[0;36m<module>\u001b[0;34m()\u001b[0m\n\u001b[1;32m      3\u001b[0m \u001b[0;31m#converter.target_spec.supported_ops = [tf.lite.OpsSet.TFLITE_BUILTINS, tf.lite.OpsSet.SELECT_TF_OPS]\u001b[0m\u001b[0;34m\u001b[0m\u001b[0;34m\u001b[0m\u001b[0;34m\u001b[0m\u001b[0m\n\u001b[1;32m      4\u001b[0m \u001b[0;31m#converter._experimental_lower_tensor_list_ops = False\u001b[0m\u001b[0;34m\u001b[0m\u001b[0;34m\u001b[0m\u001b[0;34m\u001b[0m\u001b[0m\n\u001b[0;32m----> 5\u001b[0;31m \u001b[0mtflite_model\u001b[0m \u001b[0;34m=\u001b[0m \u001b[0mconverter\u001b[0m\u001b[0;34m.\u001b[0m\u001b[0mconvert\u001b[0m\u001b[0;34m(\u001b[0m\u001b[0;34m)\u001b[0m\u001b[0;34m\u001b[0m\u001b[0;34m\u001b[0m\u001b[0m\n\u001b[0m\u001b[1;32m      6\u001b[0m \u001b[0;34m\u001b[0m\u001b[0m\n\u001b[1;32m      7\u001b[0m \u001b[0;31m# Save the model.\u001b[0m\u001b[0;34m\u001b[0m\u001b[0;34m\u001b[0m\u001b[0;34m\u001b[0m\u001b[0m\n",
            "\u001b[0;32m/usr/local/lib/python3.7/dist-packages/tensorflow/lite/python/lite.py\u001b[0m in \u001b[0;36mwrapper\u001b[0;34m(self, *args, **kwargs)\u001b[0m\n\u001b[1;32m    773\u001b[0m   \u001b[0;32mdef\u001b[0m \u001b[0mwrapper\u001b[0m\u001b[0;34m(\u001b[0m\u001b[0mself\u001b[0m\u001b[0;34m,\u001b[0m \u001b[0;34m*\u001b[0m\u001b[0margs\u001b[0m\u001b[0;34m,\u001b[0m \u001b[0;34m**\u001b[0m\u001b[0mkwargs\u001b[0m\u001b[0;34m)\u001b[0m\u001b[0;34m:\u001b[0m\u001b[0;34m\u001b[0m\u001b[0;34m\u001b[0m\u001b[0m\n\u001b[1;32m    774\u001b[0m     \u001b[0;31m# pylint: disable=protected-access\u001b[0m\u001b[0;34m\u001b[0m\u001b[0;34m\u001b[0m\u001b[0;34m\u001b[0m\u001b[0m\n\u001b[0;32m--> 775\u001b[0;31m     \u001b[0;32mreturn\u001b[0m \u001b[0mself\u001b[0m\u001b[0;34m.\u001b[0m\u001b[0m_convert_and_export_metrics\u001b[0m\u001b[0;34m(\u001b[0m\u001b[0mconvert_func\u001b[0m\u001b[0;34m,\u001b[0m \u001b[0;34m*\u001b[0m\u001b[0margs\u001b[0m\u001b[0;34m,\u001b[0m \u001b[0;34m**\u001b[0m\u001b[0mkwargs\u001b[0m\u001b[0;34m)\u001b[0m\u001b[0;34m\u001b[0m\u001b[0;34m\u001b[0m\u001b[0m\n\u001b[0m\u001b[1;32m    776\u001b[0m     \u001b[0;31m# pylint: enable=protected-access\u001b[0m\u001b[0;34m\u001b[0m\u001b[0;34m\u001b[0m\u001b[0;34m\u001b[0m\u001b[0m\n\u001b[1;32m    777\u001b[0m \u001b[0;34m\u001b[0m\u001b[0m\n",
            "\u001b[0;32m/usr/local/lib/python3.7/dist-packages/tensorflow/lite/python/lite.py\u001b[0m in \u001b[0;36m_convert_and_export_metrics\u001b[0;34m(self, convert_func, *args, **kwargs)\u001b[0m\n\u001b[1;32m    759\u001b[0m     \u001b[0mself\u001b[0m\u001b[0;34m.\u001b[0m\u001b[0m_save_conversion_params_metric\u001b[0m\u001b[0;34m(\u001b[0m\u001b[0;34m)\u001b[0m\u001b[0;34m\u001b[0m\u001b[0;34m\u001b[0m\u001b[0m\n\u001b[1;32m    760\u001b[0m     \u001b[0mstart_time\u001b[0m \u001b[0;34m=\u001b[0m \u001b[0mtime\u001b[0m\u001b[0;34m.\u001b[0m\u001b[0mprocess_time\u001b[0m\u001b[0;34m(\u001b[0m\u001b[0;34m)\u001b[0m\u001b[0;34m\u001b[0m\u001b[0;34m\u001b[0m\u001b[0m\n\u001b[0;32m--> 761\u001b[0;31m     \u001b[0mresult\u001b[0m \u001b[0;34m=\u001b[0m \u001b[0mconvert_func\u001b[0m\u001b[0;34m(\u001b[0m\u001b[0mself\u001b[0m\u001b[0;34m,\u001b[0m \u001b[0;34m*\u001b[0m\u001b[0margs\u001b[0m\u001b[0;34m,\u001b[0m \u001b[0;34m**\u001b[0m\u001b[0mkwargs\u001b[0m\u001b[0;34m)\u001b[0m\u001b[0;34m\u001b[0m\u001b[0;34m\u001b[0m\u001b[0m\n\u001b[0m\u001b[1;32m    762\u001b[0m     \u001b[0melapsed_time_ms\u001b[0m \u001b[0;34m=\u001b[0m \u001b[0;34m(\u001b[0m\u001b[0mtime\u001b[0m\u001b[0;34m.\u001b[0m\u001b[0mprocess_time\u001b[0m\u001b[0;34m(\u001b[0m\u001b[0;34m)\u001b[0m \u001b[0;34m-\u001b[0m \u001b[0mstart_time\u001b[0m\u001b[0;34m)\u001b[0m \u001b[0;34m*\u001b[0m \u001b[0;36m1000\u001b[0m\u001b[0;34m\u001b[0m\u001b[0;34m\u001b[0m\u001b[0m\n\u001b[1;32m    763\u001b[0m     \u001b[0;32mif\u001b[0m \u001b[0mresult\u001b[0m\u001b[0;34m:\u001b[0m\u001b[0;34m\u001b[0m\u001b[0;34m\u001b[0m\u001b[0m\n",
            "\u001b[0;32m/usr/local/lib/python3.7/dist-packages/tensorflow/lite/python/lite.py\u001b[0m in \u001b[0;36mconvert\u001b[0;34m(self)\u001b[0m\n\u001b[1;32m   1168\u001b[0m         \u001b[0mInvalid\u001b[0m \u001b[0mquantization\u001b[0m \u001b[0mparameters\u001b[0m\u001b[0;34m.\u001b[0m\u001b[0;34m\u001b[0m\u001b[0;34m\u001b[0m\u001b[0m\n\u001b[1;32m   1169\u001b[0m     \"\"\"\n\u001b[0;32m-> 1170\u001b[0;31m     \u001b[0msaved_model_convert_result\u001b[0m \u001b[0;34m=\u001b[0m \u001b[0mself\u001b[0m\u001b[0;34m.\u001b[0m\u001b[0m_convert_as_saved_model\u001b[0m\u001b[0;34m(\u001b[0m\u001b[0;34m)\u001b[0m\u001b[0;34m\u001b[0m\u001b[0;34m\u001b[0m\u001b[0m\n\u001b[0m\u001b[1;32m   1171\u001b[0m     \u001b[0;32mif\u001b[0m \u001b[0msaved_model_convert_result\u001b[0m\u001b[0;34m:\u001b[0m\u001b[0;34m\u001b[0m\u001b[0;34m\u001b[0m\u001b[0m\n\u001b[1;32m   1172\u001b[0m       \u001b[0;32mreturn\u001b[0m \u001b[0msaved_model_convert_result\u001b[0m\u001b[0;34m\u001b[0m\u001b[0;34m\u001b[0m\u001b[0m\n",
            "\u001b[0;32m/usr/local/lib/python3.7/dist-packages/tensorflow/lite/python/lite.py\u001b[0m in \u001b[0;36m_convert_as_saved_model\u001b[0;34m(self)\u001b[0m\n\u001b[1;32m   1151\u001b[0m       \u001b[0;32mif\u001b[0m \u001b[0mself\u001b[0m\u001b[0;34m.\u001b[0m\u001b[0msaved_model_dir\u001b[0m\u001b[0;34m:\u001b[0m\u001b[0;34m\u001b[0m\u001b[0;34m\u001b[0m\u001b[0m\n\u001b[1;32m   1152\u001b[0m         return super(TFLiteKerasModelConverterV2,\n\u001b[0;32m-> 1153\u001b[0;31m                      self).convert(graph_def, input_tensors, output_tensors)\n\u001b[0m\u001b[1;32m   1154\u001b[0m     \u001b[0;32mfinally\u001b[0m\u001b[0;34m:\u001b[0m\u001b[0;34m\u001b[0m\u001b[0;34m\u001b[0m\u001b[0m\n\u001b[1;32m   1155\u001b[0m       \u001b[0mshutil\u001b[0m\u001b[0;34m.\u001b[0m\u001b[0mrmtree\u001b[0m\u001b[0;34m(\u001b[0m\u001b[0mtemp_dir\u001b[0m\u001b[0;34m,\u001b[0m \u001b[0;32mTrue\u001b[0m\u001b[0;34m)\u001b[0m\u001b[0;34m\u001b[0m\u001b[0;34m\u001b[0m\u001b[0m\n",
            "\u001b[0;32m/usr/local/lib/python3.7/dist-packages/tensorflow/lite/python/lite.py\u001b[0m in \u001b[0;36mconvert\u001b[0;34m(self, graph_def, input_tensors, output_tensors)\u001b[0m\n\u001b[1;32m    947\u001b[0m         \u001b[0minput_tensors\u001b[0m\u001b[0;34m=\u001b[0m\u001b[0minput_tensors\u001b[0m\u001b[0;34m,\u001b[0m\u001b[0;34m\u001b[0m\u001b[0;34m\u001b[0m\u001b[0m\n\u001b[1;32m    948\u001b[0m         \u001b[0moutput_tensors\u001b[0m\u001b[0;34m=\u001b[0m\u001b[0moutput_tensors\u001b[0m\u001b[0;34m,\u001b[0m\u001b[0;34m\u001b[0m\u001b[0;34m\u001b[0m\u001b[0m\n\u001b[0;32m--> 949\u001b[0;31m         **converter_kwargs)\n\u001b[0m\u001b[1;32m    950\u001b[0m \u001b[0;34m\u001b[0m\u001b[0m\n\u001b[1;32m    951\u001b[0m     return self._optimize_tflite_model(\n",
            "\u001b[0;32m/usr/local/lib/python3.7/dist-packages/tensorflow/lite/python/convert_phase.py\u001b[0m in \u001b[0;36mwrapper\u001b[0;34m(*args, **kwargs)\u001b[0m\n\u001b[1;32m    221\u001b[0m         \u001b[0;32melse\u001b[0m\u001b[0;34m:\u001b[0m\u001b[0;34m\u001b[0m\u001b[0;34m\u001b[0m\u001b[0m\n\u001b[1;32m    222\u001b[0m           \u001b[0mreport_error_message\u001b[0m\u001b[0;34m(\u001b[0m\u001b[0mstr\u001b[0m\u001b[0;34m(\u001b[0m\u001b[0mconverter_error\u001b[0m\u001b[0;34m)\u001b[0m\u001b[0;34m)\u001b[0m\u001b[0;34m\u001b[0m\u001b[0;34m\u001b[0m\u001b[0m\n\u001b[0;32m--> 223\u001b[0;31m         \u001b[0;32mraise\u001b[0m \u001b[0mconverter_error\u001b[0m \u001b[0;32mfrom\u001b[0m \u001b[0;32mNone\u001b[0m  \u001b[0;31m# Re-throws the exception.\u001b[0m\u001b[0;34m\u001b[0m\u001b[0;34m\u001b[0m\u001b[0m\n\u001b[0m\u001b[1;32m    224\u001b[0m       \u001b[0;32mexcept\u001b[0m \u001b[0mException\u001b[0m \u001b[0;32mas\u001b[0m \u001b[0merror\u001b[0m\u001b[0;34m:\u001b[0m\u001b[0;34m\u001b[0m\u001b[0;34m\u001b[0m\u001b[0m\n\u001b[1;32m    225\u001b[0m         \u001b[0mreport_error_message\u001b[0m\u001b[0;34m(\u001b[0m\u001b[0mstr\u001b[0m\u001b[0;34m(\u001b[0m\u001b[0merror\u001b[0m\u001b[0;34m)\u001b[0m\u001b[0;34m)\u001b[0m\u001b[0;34m\u001b[0m\u001b[0;34m\u001b[0m\u001b[0m\n",
            "\u001b[0;32m/usr/local/lib/python3.7/dist-packages/tensorflow/lite/python/convert_phase.py\u001b[0m in \u001b[0;36mwrapper\u001b[0;34m(*args, **kwargs)\u001b[0m\n\u001b[1;32m    214\u001b[0m     \u001b[0;32mdef\u001b[0m \u001b[0mwrapper\u001b[0m\u001b[0;34m(\u001b[0m\u001b[0;34m*\u001b[0m\u001b[0margs\u001b[0m\u001b[0;34m,\u001b[0m \u001b[0;34m**\u001b[0m\u001b[0mkwargs\u001b[0m\u001b[0;34m)\u001b[0m\u001b[0;34m:\u001b[0m\u001b[0;34m\u001b[0m\u001b[0;34m\u001b[0m\u001b[0m\n\u001b[1;32m    215\u001b[0m       \u001b[0;32mtry\u001b[0m\u001b[0;34m:\u001b[0m\u001b[0;34m\u001b[0m\u001b[0;34m\u001b[0m\u001b[0m\n\u001b[0;32m--> 216\u001b[0;31m         \u001b[0;32mreturn\u001b[0m \u001b[0mfunc\u001b[0m\u001b[0;34m(\u001b[0m\u001b[0;34m*\u001b[0m\u001b[0margs\u001b[0m\u001b[0;34m,\u001b[0m \u001b[0;34m**\u001b[0m\u001b[0mkwargs\u001b[0m\u001b[0;34m)\u001b[0m\u001b[0;34m\u001b[0m\u001b[0;34m\u001b[0m\u001b[0m\n\u001b[0m\u001b[1;32m    217\u001b[0m       \u001b[0;32mexcept\u001b[0m \u001b[0mConverterError\u001b[0m \u001b[0;32mas\u001b[0m \u001b[0mconverter_error\u001b[0m\u001b[0;34m:\u001b[0m\u001b[0;34m\u001b[0m\u001b[0;34m\u001b[0m\u001b[0m\n\u001b[1;32m    218\u001b[0m         \u001b[0;32mif\u001b[0m \u001b[0mconverter_error\u001b[0m\u001b[0;34m.\u001b[0m\u001b[0merrors\u001b[0m\u001b[0;34m:\u001b[0m\u001b[0;34m\u001b[0m\u001b[0;34m\u001b[0m\u001b[0m\n",
            "\u001b[0;32m/usr/local/lib/python3.7/dist-packages/tensorflow/lite/python/convert.py\u001b[0m in \u001b[0;36mtoco_convert_impl\u001b[0;34m(input_data, input_tensors, output_tensors, enable_mlir_converter, *args, **kwargs)\u001b[0m\n\u001b[1;32m    824\u001b[0m       \u001b[0minput_data\u001b[0m\u001b[0;34m.\u001b[0m\u001b[0mSerializeToString\u001b[0m\u001b[0;34m(\u001b[0m\u001b[0;34m)\u001b[0m\u001b[0;34m,\u001b[0m\u001b[0;34m\u001b[0m\u001b[0;34m\u001b[0m\u001b[0m\n\u001b[1;32m    825\u001b[0m       \u001b[0mdebug_info_str\u001b[0m\u001b[0;34m=\u001b[0m\u001b[0mdebug_info_str\u001b[0m\u001b[0;34m,\u001b[0m\u001b[0;34m\u001b[0m\u001b[0;34m\u001b[0m\u001b[0m\n\u001b[0;32m--> 826\u001b[0;31m       enable_mlir_converter=enable_mlir_converter)\n\u001b[0m\u001b[1;32m    827\u001b[0m   \u001b[0;32mreturn\u001b[0m \u001b[0mdata\u001b[0m\u001b[0;34m\u001b[0m\u001b[0;34m\u001b[0m\u001b[0m\n\u001b[1;32m    828\u001b[0m \u001b[0;34m\u001b[0m\u001b[0m\n",
            "\u001b[0;32m/usr/local/lib/python3.7/dist-packages/tensorflow/lite/python/convert.py\u001b[0m in \u001b[0;36mtoco_convert_protos\u001b[0;34m(model_flags_str, toco_flags_str, input_data_str, debug_info_str, enable_mlir_converter)\u001b[0m\n\u001b[1;32m    313\u001b[0m       \u001b[0;32mfor\u001b[0m \u001b[0merror_data\u001b[0m \u001b[0;32min\u001b[0m \u001b[0m_metrics_wrapper\u001b[0m\u001b[0;34m.\u001b[0m\u001b[0mretrieve_collected_errors\u001b[0m\u001b[0;34m(\u001b[0m\u001b[0;34m)\u001b[0m\u001b[0;34m:\u001b[0m\u001b[0;34m\u001b[0m\u001b[0;34m\u001b[0m\u001b[0m\n\u001b[1;32m    314\u001b[0m         \u001b[0mconverter_error\u001b[0m\u001b[0;34m.\u001b[0m\u001b[0mappend_error\u001b[0m\u001b[0;34m(\u001b[0m\u001b[0merror_data\u001b[0m\u001b[0;34m)\u001b[0m\u001b[0;34m\u001b[0m\u001b[0;34m\u001b[0m\u001b[0m\n\u001b[0;32m--> 315\u001b[0;31m       \u001b[0;32mraise\u001b[0m \u001b[0mconverter_error\u001b[0m\u001b[0;34m\u001b[0m\u001b[0;34m\u001b[0m\u001b[0m\n\u001b[0m\u001b[1;32m    316\u001b[0m \u001b[0;34m\u001b[0m\u001b[0m\n\u001b[1;32m    317\u001b[0m   return _run_toco_binary(model_flags_str, toco_flags_str, input_data_str,\n",
            "\u001b[0;31mConverterError\u001b[0m: /usr/local/lib/python3.7/dist-packages/tensorflow/python/saved_model/save.py:1315:0: error: 'tf.TensorListReserve' op requires element_shape to be static during TF Lite transformation pass\n<unknown>:0: note: loc(\"StatefulPartitionedCall\"): called from\n/usr/local/lib/python3.7/dist-packages/tensorflow/python/saved_model/save.py:1315:0: error: failed to legalize operation 'tf.TensorListReserve' that was explicitly marked illegal\n<unknown>:0: note: loc(\"StatefulPartitionedCall\"): called from\n<unknown>:0: error: Lowering tensor list ops is failed. Please consider using Select TF ops and disabling `_experimental_lower_tensor_list_ops` flag in the TFLite converter object. For example, converter.target_spec.supported_ops = [tf.lite.OpsSet.TFLITE_BUILTINS, tf.lite.OpsSet.SELECT_TF_OPS]\\n converter._experimental_lower_tensor_list_ops = False\n"
          ]
        }
      ]
    },
    {
      "cell_type": "markdown",
      "metadata": {
        "id": "NHuZFmH-SPh4"
      },
      "source": [
        "### Model Training (LSTM)"
      ],
      "id": "NHuZFmH-SPh4"
    },
    {
      "cell_type": "code",
      "metadata": {
        "colab": {
          "base_uri": "https://localhost:8080/"
        },
        "id": "DMabtJtxw6P8",
        "outputId": "acbd2077-b7a3-4c79-a966-c8d759207739"
      },
      "source": [
        "units = 100\n",
        "filters = 64\n",
        "kernel_size = 3\n",
        "n_features = 6\n",
        "activation='relu'\n",
        "n_classes = 5\n",
        "\n",
        "model_lstm = Sequential()\n",
        "\n",
        "model_lstm.add(LSTM(units=units, input_shape=(window_size, n_features)))\n",
        "model_lstm.add(Dense(100, activation='relu'))\n",
        "model_lstm.add(Dense(n_classes, activation='softmax'))\n",
        "\n",
        "model_lstm.summary()"
      ],
      "id": "DMabtJtxw6P8",
      "execution_count": null,
      "outputs": [
        {
          "output_type": "stream",
          "name": "stdout",
          "text": [
            "Model: \"sequential\"\n",
            "_________________________________________________________________\n",
            " Layer (type)                Output Shape              Param #   \n",
            "=================================================================\n",
            " lstm (LSTM)                 (None, 100)               42800     \n",
            "                                                                 \n",
            " dense (Dense)               (None, 100)               10100     \n",
            "                                                                 \n",
            " dense_1 (Dense)             (None, 5)                 505       \n",
            "                                                                 \n",
            "=================================================================\n",
            "Total params: 53,405\n",
            "Trainable params: 53,405\n",
            "Non-trainable params: 0\n",
            "_________________________________________________________________\n"
          ]
        }
      ]
    },
    {
      "cell_type": "code",
      "metadata": {
        "colab": {
          "base_uri": "https://localhost:8080/"
        },
        "id": "tYqFQaBwSWgr",
        "outputId": "4602361a-a42f-4867-fab8-ba93bd650adb"
      },
      "source": [
        "model_lstm.compile(\n",
        "    optimizer=optimizers.SGD(lr=0.001),\n",
        "    loss='binary_crossentropy',\n",
        "    metrics = ['accuracy'])"
      ],
      "id": "tYqFQaBwSWgr",
      "execution_count": null,
      "outputs": [
        {
          "output_type": "stream",
          "name": "stderr",
          "text": [
            "/usr/local/lib/python3.7/dist-packages/keras/optimizer_v2/gradient_descent.py:102: UserWarning: The `lr` argument is deprecated, use `learning_rate` instead.\n",
            "  super(SGD, self).__init__(name, **kwargs)\n"
          ]
        }
      ]
    },
    {
      "cell_type": "code",
      "metadata": {
        "colab": {
          "base_uri": "https://localhost:8080/"
        },
        "id": "nArqfYb0jQZz",
        "outputId": "da4a555b-ba31-4d8b-a741-ff4cd31da8d8"
      },
      "source": [
        "model_lstm.fit(X_train, y_train,\n",
        "        batch_size=10, epochs=50)"
      ],
      "id": "nArqfYb0jQZz",
      "execution_count": null,
      "outputs": [
        {
          "output_type": "stream",
          "name": "stdout",
          "text": [
            "Epoch 1/50\n",
            "1938/1938 [==============================] - 52s 26ms/step - loss: 0.5905 - accuracy: 0.3573\n",
            "Epoch 2/50\n",
            "1938/1938 [==============================] - 49s 25ms/step - loss: 0.4996 - accuracy: 0.5663\n",
            "Epoch 3/50\n",
            "1938/1938 [==============================] - 49s 25ms/step - loss: 0.4392 - accuracy: 0.5662\n",
            "Epoch 4/50\n",
            "1938/1938 [==============================] - 50s 26ms/step - loss: 0.3917 - accuracy: 0.5771\n",
            "Epoch 5/50\n",
            "1938/1938 [==============================] - 49s 25ms/step - loss: 0.3554 - accuracy: 0.5871\n",
            "Epoch 6/50\n",
            "1938/1938 [==============================] - 49s 25ms/step - loss: 0.3292 - accuracy: 0.5924\n",
            "Epoch 7/50\n",
            "1938/1938 [==============================] - 49s 25ms/step - loss: 0.3095 - accuracy: 0.6126\n",
            "Epoch 8/50\n",
            "1938/1938 [==============================] - 50s 26ms/step - loss: 0.2930 - accuracy: 0.6765\n",
            "Epoch 9/50\n",
            "1938/1938 [==============================] - 49s 25ms/step - loss: 0.2775 - accuracy: 0.7345\n",
            "Epoch 10/50\n",
            "1938/1938 [==============================] - 50s 26ms/step - loss: 0.2607 - accuracy: 0.7943\n",
            "Epoch 11/50\n",
            "1938/1938 [==============================] - 50s 26ms/step - loss: 0.2390 - accuracy: 0.8384\n",
            "Epoch 12/50\n",
            "1938/1938 [==============================] - 50s 26ms/step - loss: 0.2089 - accuracy: 0.8592\n",
            "Epoch 13/50\n",
            "1938/1938 [==============================] - 50s 26ms/step - loss: 0.1807 - accuracy: 0.8688\n",
            "Epoch 14/50\n",
            "1938/1938 [==============================] - 49s 25ms/step - loss: 0.1633 - accuracy: 0.8772\n",
            "Epoch 15/50\n",
            "1938/1938 [==============================] - 49s 25ms/step - loss: 0.1518 - accuracy: 0.8835\n",
            "Epoch 16/50\n",
            "1938/1938 [==============================] - 50s 26ms/step - loss: 0.1429 - accuracy: 0.8919\n",
            "Epoch 17/50\n",
            "1938/1938 [==============================] - 50s 26ms/step - loss: 0.1349 - accuracy: 0.9007\n",
            "Epoch 18/50\n",
            "1938/1938 [==============================] - 50s 26ms/step - loss: 0.1278 - accuracy: 0.9099\n",
            "Epoch 19/50\n",
            "1938/1938 [==============================] - 50s 26ms/step - loss: 0.1213 - accuracy: 0.9173\n",
            "Epoch 20/50\n",
            "1938/1938 [==============================] - 50s 26ms/step - loss: 0.1149 - accuracy: 0.9232\n",
            "Epoch 21/50\n",
            "1938/1938 [==============================] - 50s 26ms/step - loss: 0.1090 - accuracy: 0.9296\n",
            "Epoch 22/50\n",
            "1938/1938 [==============================] - 50s 26ms/step - loss: 0.1032 - accuracy: 0.9386\n",
            "Epoch 23/50\n",
            "1938/1938 [==============================] - 50s 26ms/step - loss: 0.0979 - accuracy: 0.9465\n",
            "Epoch 24/50\n",
            "1938/1938 [==============================] - 49s 25ms/step - loss: 0.0931 - accuracy: 0.9516\n",
            "Epoch 25/50\n",
            "1938/1938 [==============================] - 49s 25ms/step - loss: 0.0885 - accuracy: 0.9552\n",
            "Epoch 26/50\n",
            "1938/1938 [==============================] - 56s 29ms/step - loss: 0.0841 - accuracy: 0.9580\n",
            "Epoch 27/50\n",
            "1938/1938 [==============================] - 58s 30ms/step - loss: 0.0800 - accuracy: 0.9601\n",
            "Epoch 28/50\n",
            "1938/1938 [==============================] - 57s 29ms/step - loss: 0.0763 - accuracy: 0.9624\n",
            "Epoch 29/50\n",
            "1938/1938 [==============================] - 60s 31ms/step - loss: 0.0725 - accuracy: 0.9628\n",
            "Epoch 30/50\n",
            "1938/1938 [==============================] - 58s 30ms/step - loss: 0.0692 - accuracy: 0.9632\n",
            "Epoch 31/50\n",
            "1938/1938 [==============================] - 57s 30ms/step - loss: 0.0658 - accuracy: 0.9645\n",
            "Epoch 32/50\n",
            "1938/1938 [==============================] - 59s 30ms/step - loss: 0.0622 - accuracy: 0.9658\n",
            "Epoch 33/50\n",
            "1938/1938 [==============================] - 58s 30ms/step - loss: 0.0594 - accuracy: 0.9662\n",
            "Epoch 34/50\n",
            "1938/1938 [==============================] - 56s 29ms/step - loss: 0.0567 - accuracy: 0.9670\n",
            "Epoch 35/50\n",
            "1938/1938 [==============================] - 55s 28ms/step - loss: 0.0541 - accuracy: 0.9684\n",
            "Epoch 36/50\n",
            "1938/1938 [==============================] - 55s 28ms/step - loss: 0.0520 - accuracy: 0.9690\n",
            "Epoch 37/50\n",
            "1938/1938 [==============================] - 55s 28ms/step - loss: 0.0496 - accuracy: 0.9698\n",
            "Epoch 38/50\n",
            "1938/1938 [==============================] - 56s 29ms/step - loss: 0.0475 - accuracy: 0.9700\n",
            "Epoch 39/50\n",
            "1938/1938 [==============================] - 57s 30ms/step - loss: 0.0456 - accuracy: 0.9711\n",
            "Epoch 40/50\n",
            "1938/1938 [==============================] - 56s 29ms/step - loss: 0.0442 - accuracy: 0.9716\n",
            "Epoch 41/50\n",
            "1938/1938 [==============================] - 59s 30ms/step - loss: 0.0431 - accuracy: 0.9721\n",
            "Epoch 42/50\n",
            "1938/1938 [==============================] - 57s 29ms/step - loss: 0.0433 - accuracy: 0.9725\n",
            "Epoch 43/50\n",
            "1938/1938 [==============================] - 58s 30ms/step - loss: 0.0415 - accuracy: 0.9729\n",
            "Epoch 44/50\n",
            "1938/1938 [==============================] - 59s 30ms/step - loss: 0.0399 - accuracy: 0.9736\n",
            "Epoch 45/50\n",
            "1938/1938 [==============================] - 58s 30ms/step - loss: 0.0387 - accuracy: 0.9742\n",
            "Epoch 46/50\n",
            "1938/1938 [==============================] - 53s 27ms/step - loss: 0.0374 - accuracy: 0.9753\n",
            "Epoch 47/50\n",
            "1938/1938 [==============================] - 51s 26ms/step - loss: 0.0369 - accuracy: 0.9752\n",
            "Epoch 48/50\n",
            "1938/1938 [==============================] - 52s 27ms/step - loss: 0.0359 - accuracy: 0.9748\n",
            "Epoch 49/50\n",
            "1938/1938 [==============================] - 52s 27ms/step - loss: 0.0347 - accuracy: 0.9757\n",
            "Epoch 50/50\n",
            "1938/1938 [==============================] - 52s 27ms/step - loss: 0.0338 - accuracy: 0.9766\n"
          ]
        },
        {
          "output_type": "execute_result",
          "data": {
            "text/plain": [
              "<keras.callbacks.History at 0x7f2111503f10>"
            ]
          },
          "metadata": {},
          "execution_count": 106
        }
      ]
    },
    {
      "cell_type": "code",
      "metadata": {
        "colab": {
          "base_uri": "https://localhost:8080/"
        },
        "id": "vLFtm9lGjUWC",
        "outputId": "c59ce994-d770-4444-d07c-2e73b0aedb7d"
      },
      "source": [
        "# stats for five classes\n",
        "y_pred_ohe = model_lstm.predict(X_test)\n",
        "y_pred_labels = np.argmax(y_pred_ohe, axis=1)\n",
        "y_true_labels = np.argmax(y_test, axis=1)\n",
        "print(\"*\" * 80)\n",
        "print(\"Classification report\")\n",
        "print(\"*\" * 80)\n",
        "print(classification_report(y_true_labels, y_pred_labels))"
      ],
      "id": "vLFtm9lGjUWC",
      "execution_count": null,
      "outputs": [
        {
          "output_type": "stream",
          "name": "stdout",
          "text": [
            "********************************************************************************\n",
            "Classification report\n",
            "********************************************************************************\n",
            "              precision    recall  f1-score   support\n",
            "\n",
            "           0       0.99      1.00      0.99      1104\n",
            "           1       0.98      0.98      0.98      1242\n",
            "           2       0.98      0.97      0.98      1052\n",
            "           3       0.95      0.93      0.94       649\n",
            "           4       0.96      0.98      0.97       797\n",
            "\n",
            "    accuracy                           0.97      4844\n",
            "   macro avg       0.97      0.97      0.97      4844\n",
            "weighted avg       0.97      0.97      0.97      4844\n",
            "\n"
          ]
        }
      ]
    },
    {
      "cell_type": "code",
      "metadata": {
        "colab": {
          "base_uri": "https://localhost:8080/"
        },
        "id": "MimwNGHuzlAS",
        "outputId": "9b1305cc-bd36-4bbe-bf4d-859b7e5d7efb"
      },
      "source": [
        "model_lstm.summary()"
      ],
      "id": "MimwNGHuzlAS",
      "execution_count": null,
      "outputs": [
        {
          "output_type": "stream",
          "name": "stdout",
          "text": [
            "Model: \"sequential\"\n",
            "_________________________________________________________________\n",
            " Layer (type)                Output Shape              Param #   \n",
            "=================================================================\n",
            " lstm (LSTM)                 (None, 100)               42800     \n",
            "                                                                 \n",
            " dense (Dense)               (None, 100)               10100     \n",
            "                                                                 \n",
            " dense_1 (Dense)             (None, 5)                 505       \n",
            "                                                                 \n",
            "=================================================================\n",
            "Total params: 53,405\n",
            "Trainable params: 53,405\n",
            "Non-trainable params: 0\n",
            "_________________________________________________________________\n"
          ]
        }
      ]
    },
    {
      "cell_type": "code",
      "metadata": {
        "colab": {
          "base_uri": "https://localhost:8080/",
          "height": 110
        },
        "id": "RLXwUb4_u8JU",
        "outputId": "ccd622ae-92ea-49cd-c463-5c5fd9448981"
      },
      "source": [
        "# Convert the model.\n",
        "converter = tf.lite.TFLiteConverter.from_keras_model(model_lstm)\n",
        "converter.target_spec.supported_ops = [tf.lite.OpsSet.TFLITE_BUILTINS, tf.lite.OpsSet.SELECT_TF_OPS]\n",
        "converter._experimental_lower_tensor_list_ops = False\n",
        "tflite_model = converter.convert()\n",
        "\n",
        "# Save the model.\n",
        "with open('model_lstm.tflite', 'wb') as f:\n",
        "  f.write(tflite_model)\n",
        "\n",
        "from google.colab import files\n",
        "files.download('model_lstm.tflite')"
      ],
      "id": "RLXwUb4_u8JU",
      "execution_count": null,
      "outputs": [
        {
          "output_type": "stream",
          "name": "stderr",
          "text": [
            "WARNING:absl:Found untraced functions such as lstm_cell_layer_call_fn, lstm_cell_layer_call_and_return_conditional_losses, lstm_cell_layer_call_fn, lstm_cell_layer_call_and_return_conditional_losses, lstm_cell_layer_call_and_return_conditional_losses while saving (showing 5 of 5). These functions will not be directly callable after loading.\n"
          ]
        },
        {
          "output_type": "stream",
          "name": "stdout",
          "text": [
            "INFO:tensorflow:Assets written to: /tmp/tmpe78bbrif/assets\n"
          ]
        },
        {
          "output_type": "stream",
          "name": "stderr",
          "text": [
            "INFO:tensorflow:Assets written to: /tmp/tmpe78bbrif/assets\n",
            "WARNING:absl:Buffer deduplication procedure will be skipped when flatbuffer library is not properly loaded\n"
          ]
        },
        {
          "output_type": "display_data",
          "data": {
            "application/javascript": [
              "\n",
              "    async function download(id, filename, size) {\n",
              "      if (!google.colab.kernel.accessAllowed) {\n",
              "        return;\n",
              "      }\n",
              "      const div = document.createElement('div');\n",
              "      const label = document.createElement('label');\n",
              "      label.textContent = `Downloading \"${filename}\": `;\n",
              "      div.appendChild(label);\n",
              "      const progress = document.createElement('progress');\n",
              "      progress.max = size;\n",
              "      div.appendChild(progress);\n",
              "      document.body.appendChild(div);\n",
              "\n",
              "      const buffers = [];\n",
              "      let downloaded = 0;\n",
              "\n",
              "      const channel = await google.colab.kernel.comms.open(id);\n",
              "      // Send a message to notify the kernel that we're ready.\n",
              "      channel.send({})\n",
              "\n",
              "      for await (const message of channel.messages) {\n",
              "        // Send a message to notify the kernel that we're ready.\n",
              "        channel.send({})\n",
              "        if (message.buffers) {\n",
              "          for (const buffer of message.buffers) {\n",
              "            buffers.push(buffer);\n",
              "            downloaded += buffer.byteLength;\n",
              "            progress.value = downloaded;\n",
              "          }\n",
              "        }\n",
              "      }\n",
              "      const blob = new Blob(buffers, {type: 'application/binary'});\n",
              "      const a = document.createElement('a');\n",
              "      a.href = window.URL.createObjectURL(blob);\n",
              "      a.download = filename;\n",
              "      div.appendChild(a);\n",
              "      a.click();\n",
              "      div.remove();\n",
              "    }\n",
              "  "
            ],
            "text/plain": [
              "<IPython.core.display.Javascript object>"
            ]
          },
          "metadata": {}
        },
        {
          "output_type": "display_data",
          "data": {
            "application/javascript": [
              "download(\"download_c293bc22-506e-4b19-bc94-678044d9dabe\", \"model_lstm.tflite\", 224608)"
            ],
            "text/plain": [
              "<IPython.core.display.Javascript object>"
            ]
          },
          "metadata": {}
        }
      ]
    },
    {
      "cell_type": "code",
      "metadata": {
        "id": "WVx_V0iiVX5i"
      },
      "source": [
        ""
      ],
      "id": "WVx_V0iiVX5i",
      "execution_count": null,
      "outputs": []
    }
  ]
}