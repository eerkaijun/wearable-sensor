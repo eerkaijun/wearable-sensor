{
 "cells": [
  {
   "cell_type": "code",
   "execution_count": 2,
   "id": "72042606-f3b8-4869-8cbd-c045984ff1fe",
   "metadata": {},
   "outputs": [],
   "source": [
    "import pandas as pd\n",
    "import numpy as np\n",
    "import tsfresh\n",
    "from sklearn.model_selection import train_test_split, LeaveOneOut\n",
    "from sklearn.ensemble import RandomForestClassifier\n",
    "from sklearn.metrics import classification_report, accuracy_score\n",
    "import tensorflow as tf"
   ]
  },
  {
   "cell_type": "code",
   "execution_count": 3,
   "id": "64847742-8bef-4894-8fde-624d9483aa74",
   "metadata": {},
   "outputs": [],
   "source": [
    "import os\n",
    "\n",
    "import matplotlib.pyplot as plt\n",
    "\n",
    "# keras goodies\n",
    "from tensorflow.keras.models import Sequential\n",
    "from tensorflow.keras.layers import Dense, Activation, Flatten, Conv1D, Dropout, MaxPooling1D, BatchNormalization\n",
    "from tensorflow.keras import optimizers\n",
    "from tensorflow.keras import regularizers\n",
    "from tensorflow.keras import metrics as kmetrics\n",
    "import tensorflow.keras.backend as K"
   ]
  },
  {
   "cell_type": "code",
   "execution_count": 4,
   "id": "9d670016",
   "metadata": {},
   "outputs": [],
   "source": [
    "import itertools"
   ]
  },
  {
   "cell_type": "code",
   "execution_count": 5,
   "id": "2abacbfb-9269-4bc0-bc4e-6631c453f065",
   "metadata": {},
   "outputs": [
    {
     "name": "stderr",
     "output_type": "stream",
     "text": [
      "/afs/inf.ed.ac.uk/user/s18/s1894401/anaconda3/lib/python3.8/site-packages/IPython/core/interactiveshell.py:3165: DtypeWarning: Columns (11) have mixed types.Specify dtype option on import or set low_memory=False.\n",
      "  has_raised = await self.run_ast_nodes(code_ast.body, cell_name,\n"
     ]
    }
   ],
   "source": [
    "base_df = pd.read_csv('Respeck_recordings_clean.csv')"
   ]
  },
  {
   "cell_type": "code",
   "execution_count": 6,
   "id": "7f0cd1e8-b402-4e94-9eca-e97434607be4",
   "metadata": {},
   "outputs": [
    {
     "data": {
      "text/plain": [
       "492676"
      ]
     },
     "execution_count": 6,
     "metadata": {},
     "output_type": "execute_result"
    }
   ],
   "source": [
    "len(base_df)"
   ]
  },
  {
   "cell_type": "code",
   "execution_count": 8,
   "id": "390365f5-faf5-4210-a643-5b8b2833e570",
   "metadata": {},
   "outputs": [],
   "source": [
    "columns_of_interest = ['accel_x', 'accel_y', 'accel_z', 'gyro_x', 'gyro_y', 'gyro_z']"
   ]
  },
  {
   "cell_type": "code",
   "execution_count": 9,
   "id": "0f57d831-a18f-4177-ab38-6642ea150600",
   "metadata": {},
   "outputs": [],
   "source": [
    "nan_indices = set()\n",
    "for i in range(len(base_df)):\n",
    "    for col in columns_of_interest:\n",
    "        if pd.isnull(base_df.loc[i, col]):\n",
    "            nan_indices.add(i)"
   ]
  },
  {
   "cell_type": "code",
   "execution_count": 10,
   "id": "d4e406b7-a4c3-4ea2-8311-ad87ad37c9ec",
   "metadata": {},
   "outputs": [],
   "source": [
    "base_df.drop(list(nan_indices), inplace=True)"
   ]
  },
  {
   "cell_type": "code",
   "execution_count": 11,
   "id": "c80f1d2e-23ac-4bdb-b8c9-8b7b0281eefb",
   "metadata": {},
   "outputs": [],
   "source": [
    "subject_dataframes = []"
   ]
  },
  {
   "cell_type": "code",
   "execution_count": 12,
   "id": "8c0de162-2140-4db9-bf06-1266dd863761",
   "metadata": {},
   "outputs": [],
   "source": [
    "for rid, group in base_df.groupby(\"subject_id\"):\n",
    "    subject_dataframes.append(group)"
   ]
  },
  {
   "cell_type": "code",
   "execution_count": 13,
   "id": "8370b71d",
   "metadata": {},
   "outputs": [
    {
     "data": {
      "text/plain": [
       "46"
      ]
     },
     "execution_count": 13,
     "metadata": {},
     "output_type": "execute_result"
    }
   ],
   "source": [
    "n = len(subject_dataframes)\n",
    "n"
   ]
  },
  {
   "cell_type": "code",
   "execution_count": 15,
   "id": "99e3d171",
   "metadata": {},
   "outputs": [
    {
     "name": "stderr",
     "output_type": "stream",
     "text": [
      "/afs/inf.ed.ac.uk/user/s18/s1894401/anaconda3/lib/python3.8/site-packages/pandas/core/indexing.py:1597: SettingWithCopyWarning: \n",
      "A value is trying to be set on a copy of a slice from a DataFrame.\n",
      "Try using .loc[row_indexer,col_indexer] = value instead\n",
      "\n",
      "See the caveats in the documentation: https://pandas.pydata.org/pandas-docs/stable/user_guide/indexing.html#returning-a-view-versus-a-copy\n",
      "  self.obj[key] = value\n",
      "/afs/inf.ed.ac.uk/user/s18/s1894401/anaconda3/lib/python3.8/site-packages/pandas/core/indexing.py:1720: SettingWithCopyWarning: \n",
      "A value is trying to be set on a copy of a slice from a DataFrame.\n",
      "Try using .loc[row_indexer,col_indexer] = value instead\n",
      "\n",
      "See the caveats in the documentation: https://pandas.pydata.org/pandas-docs/stable/user_guide/indexing.html#returning-a-view-versus-a-copy\n",
      "  self._setitem_single_column(loc, value, pi)\n"
     ]
    }
   ],
   "source": [
    "window_size = 50 # 50 datapoints for the window size, which, at 25Hz, means 2 seconds\n",
    "step_size = 25 # this is 50% overlap\n",
    "\n",
    "window_number = 0 # start a counter at 0 to keep track of the window number\n",
    "\n",
    "all_overlapping_windows = []\n",
    "\n",
    "for rid, group in base_df.groupby(\"recording_id\"):\n",
    "    # print(f\"Processing rid = {rid}\")\n",
    "    \n",
    "    large_enough_windows = [window for window in group.rolling(window=window_size, min_periods=window_size) if len(window) == window_size]\n",
    "    \n",
    "    overlapping_windows = large_enough_windows[::step_size] \n",
    "    \n",
    "    # then we will append a window ID to each window\n",
    "    for window in overlapping_windows:\n",
    "        window.loc[:, 'window_id'] = window_number\n",
    "        window_number += 1\n",
    "    \n",
    "    if len(overlapping_windows) == 0:\n",
    "            continue\n",
    "    \n",
    "    all_overlapping_windows.append(pd.concat(overlapping_windows).reset_index(drop=True))"
   ]
  },
  {
   "cell_type": "code",
   "execution_count": 16,
   "id": "8282a6cf",
   "metadata": {},
   "outputs": [],
   "source": [
    "final_sliding_windows = pd.concat(all_overlapping_windows).reset_index(drop=True)"
   ]
  },
  {
   "cell_type": "code",
   "execution_count": 17,
   "id": "4f6991cc",
   "metadata": {},
   "outputs": [
    {
     "data": {
      "text/plain": [
       "Index(['timestamp', 'accel_x', 'accel_y', 'accel_z', 'gyro_x', 'gyro_y',\n",
       "       'gyro_z', 'sensor_type', 'activity_type', 'activity_code', 'subject_id',\n",
       "       'notes', 'recording_id', 'window_id'],\n",
       "      dtype='object')"
      ]
     },
     "execution_count": 17,
     "metadata": {},
     "output_type": "execute_result"
    }
   ],
   "source": [
    "final_sliding_windows.columns"
   ]
  },
  {
   "cell_type": "code",
   "execution_count": 18,
   "id": "4c60c864",
   "metadata": {},
   "outputs": [],
   "source": [
    "subject_ids = list(set(base_df['subject_id']))"
   ]
  },
  {
   "cell_type": "code",
   "execution_count": 19,
   "id": "28863d59",
   "metadata": {},
   "outputs": [],
   "source": [
    "training_partitions = [final_sliding_windows[final_sliding_windows.subject_id != s] for s in subject_ids]"
   ]
  },
  {
   "cell_type": "code",
   "execution_count": 20,
   "id": "61761cdb",
   "metadata": {},
   "outputs": [],
   "source": [
    "testing_partitions = [final_sliding_windows[final_sliding_windows.subject_id == s] for s in subject_ids]"
   ]
  },
  {
   "cell_type": "code",
   "execution_count": 21,
   "id": "f89e57cb-65bb-4b22-91a1-1f6aea6fec59",
   "metadata": {},
   "outputs": [
    {
     "name": "stdout",
     "output_type": "stream",
     "text": [
      "The data was collected using the sensors: ['Respeck']\n",
      "The data was collected for the activities: ['Climbing stairs' 'Standing' 'Movement' 'Lying down on stomach'\n",
      " 'Sitting bent backward' 'Lying down left' 'Lying down on back'\n",
      " 'Descending stairs' 'Sitting bent forward' 'Walking at normal speed'\n",
      " 'Running' 'Lying down right' 'Desk work' 'Sitting' 'Falling on knees'\n",
      " 'Falling on the back' 'Falling on the right' 'Falling on the left']\n",
      "The number of unique recordings is: 876\n",
      "The subject IDs in the recordings are: 46\n"
     ]
    }
   ],
   "source": [
    "print(f\"The data was collected using the sensors: {base_df.sensor_type.unique()}\")\n",
    "print(f\"The data was collected for the activities: {base_df.activity_type.unique()}\")\n",
    "print(f\"The number of unique recordings is: {len(base_df.recording_id.unique())}\")\n",
    "print(f\"The subject IDs in the recordings are: {len(base_df.subject_id.unique())}\")"
   ]
  },
  {
   "cell_type": "code",
   "execution_count": 24,
   "id": "64f39885-f401-4a80-94a6-2eba39c61d1c",
   "metadata": {},
   "outputs": [],
   "source": [
    "class_labels = {\n",
    "    'Falling on the left':0,\n",
    "    'Falling on knees':1,\n",
    "    'Falling on the back':2,\n",
    "    'Descending stairs':3,\n",
    "    'Standing':4,\n",
    "    'Lying down right':5,\n",
    "    'Walking at normal speed':6,\n",
    "    'Lying down on back':7,\n",
    "    'Desk work':8,\n",
    "    'Running':9,\n",
    "    'Climbing stairs':10,\n",
    "    'Falling on the right':11,\n",
    "    'Sitting bent backward':12,\n",
    "    'Sitting bent forward':13,\n",
    "    'Lying down left':14,\n",
    "    'Movement':15,\n",
    "    'Lying down on stomach':16,\n",
    "    'Sitting':17\n",
    "}"
   ]
  },
  {
   "cell_type": "code",
   "execution_count": 25,
   "id": "42d67295",
   "metadata": {},
   "outputs": [
    {
     "data": {
      "text/plain": [
       "922350"
      ]
     },
     "execution_count": 25,
     "metadata": {},
     "output_type": "execute_result"
    }
   ],
   "source": [
    "len(final_sliding_windows)"
   ]
  },
  {
   "cell_type": "code",
   "execution_count": 26,
   "id": "6433a3f9",
   "metadata": {},
   "outputs": [
    {
     "data": {
      "text/plain": [
       "46"
      ]
     },
     "execution_count": 26,
     "metadata": {},
     "output_type": "execute_result"
    }
   ],
   "source": [
    "n"
   ]
  },
  {
   "cell_type": "code",
   "execution_count": 28,
   "id": "3fb4e016-9ffc-426d-a220-a253c38c7769",
   "metadata": {},
   "outputs": [],
   "source": [
    "# randomly select five partitions and train the model on them\n",
    "random_partitions = [4, 17, 26, 31, 40]"
   ]
  },
  {
   "cell_type": "code",
   "execution_count": 46,
   "id": "f39d05db",
   "metadata": {},
   "outputs": [],
   "source": [
    "# get the training and testing features\n",
    "feature_lists_train = []\n",
    "feature_lists_test = []"
   ]
  },
  {
   "cell_type": "code",
   "execution_count": 47,
   "id": "fb670599",
   "metadata": {},
   "outputs": [
    {
     "name": "stdout",
     "output_type": "stream",
     "text": [
      "4\n"
     ]
    },
    {
     "name": "stderr",
     "output_type": "stream",
     "text": [
      "Feature Extraction: 100%|██████████| 15/15 [00:03<00:00,  4.70it/s]\n",
      "Feature Extraction: 100%|██████████| 15/15 [00:03<00:00,  4.48it/s]\n",
      "Feature Extraction: 100%|██████████| 15/15 [00:03<00:00,  4.73it/s]\n",
      "Feature Extraction: 100%|██████████| 15/15 [00:03<00:00,  4.41it/s]\n",
      "Feature Extraction: 100%|██████████| 15/15 [00:03<00:00,  4.75it/s]\n",
      "Feature Extraction: 100%|██████████| 15/15 [00:03<00:00,  4.41it/s]"
     ]
    },
    {
     "name": "stdout",
     "output_type": "stream",
     "text": [
      "17\n"
     ]
    },
    {
     "name": "stderr",
     "output_type": "stream",
     "text": [
      "\n",
      "Feature Extraction: 100%|██████████| 15/15 [00:03<00:00,  4.75it/s]\n",
      "Feature Extraction: 100%|██████████| 15/15 [00:03<00:00,  4.49it/s]\n",
      "Feature Extraction: 100%|██████████| 15/15 [00:03<00:00,  4.78it/s]\n",
      "Feature Extraction: 100%|██████████| 15/15 [00:03<00:00,  4.61it/s]\n",
      "Feature Extraction: 100%|██████████| 15/15 [00:03<00:00,  4.58it/s]\n",
      "Feature Extraction: 100%|██████████| 15/15 [00:03<00:00,  4.73it/s]\n"
     ]
    },
    {
     "name": "stdout",
     "output_type": "stream",
     "text": [
      "26\n"
     ]
    },
    {
     "name": "stderr",
     "output_type": "stream",
     "text": [
      "Feature Extraction: 100%|██████████| 15/15 [00:03<00:00,  4.57it/s]\n",
      "Feature Extraction: 100%|██████████| 15/15 [00:03<00:00,  4.59it/s]\n",
      "Feature Extraction: 100%|██████████| 15/15 [00:03<00:00,  4.74it/s]\n",
      "Feature Extraction: 100%|██████████| 15/15 [00:03<00:00,  4.58it/s]\n",
      "Feature Extraction: 100%|██████████| 15/15 [00:03<00:00,  4.72it/s]\n",
      "Feature Extraction: 100%|██████████| 15/15 [00:03<00:00,  4.48it/s]"
     ]
    },
    {
     "name": "stdout",
     "output_type": "stream",
     "text": [
      "31\n"
     ]
    },
    {
     "name": "stderr",
     "output_type": "stream",
     "text": [
      "\n",
      "Feature Extraction: 100%|██████████| 15/15 [00:03<00:00,  4.70it/s]\n",
      "Feature Extraction: 100%|██████████| 15/15 [00:03<00:00,  4.59it/s]\n",
      "Feature Extraction: 100%|██████████| 15/15 [00:03<00:00,  4.77it/s]\n",
      "Feature Extraction: 100%|██████████| 15/15 [00:03<00:00,  4.59it/s]\n",
      "Feature Extraction: 100%|██████████| 15/15 [00:03<00:00,  4.82it/s]\n",
      "Feature Extraction: 100%|██████████| 15/15 [00:03<00:00,  4.73it/s]\n"
     ]
    },
    {
     "name": "stdout",
     "output_type": "stream",
     "text": [
      "40\n"
     ]
    },
    {
     "name": "stderr",
     "output_type": "stream",
     "text": [
      "Feature Extraction: 100%|██████████| 15/15 [00:03<00:00,  4.60it/s]\n",
      "Feature Extraction: 100%|██████████| 15/15 [00:03<00:00,  4.79it/s]\n",
      "Feature Extraction: 100%|██████████| 15/15 [00:03<00:00,  4.45it/s]\n",
      "Feature Extraction: 100%|██████████| 15/15 [00:03<00:00,  4.76it/s]\n",
      "Feature Extraction: 100%|██████████| 15/15 [00:03<00:00,  4.48it/s]\n",
      "Feature Extraction: 100%|██████████| 15/15 [00:03<00:00,  4.73it/s]\n"
     ]
    }
   ],
   "source": [
    "for i in random_partitions:\n",
    "    print(i)\n",
    "    # now extract all features\n",
    "    feature_list = []\n",
    "\n",
    "    for col in columns_of_interest:\n",
    "        new_features = tsfresh.extract_features(timeseries_container=training_partitions[i], column_id='window_id',\n",
    "                            column_value=col, default_fc_parameters=tsfresh.feature_extraction.MinimalFCParameters())\n",
    "        feature_list.append(new_features)\n",
    "\n",
    "    feature_list = pd.concat(feature_list, axis=1)\n",
    "    \n",
    "    feature_lists_train.append(feature_list)"
   ]
  },
  {
   "cell_type": "code",
   "execution_count": 48,
   "id": "75d7c0ba",
   "metadata": {},
   "outputs": [
    {
     "name": "stdout",
     "output_type": "stream",
     "text": [
      "4\n"
     ]
    },
    {
     "name": "stderr",
     "output_type": "stream",
     "text": [
      "Feature Extraction: 100%|██████████| 15/15 [00:00<00:00, 235.69it/s]\n",
      "Feature Extraction: 100%|██████████| 15/15 [00:00<00:00, 241.09it/s]\n",
      "Feature Extraction: 100%|██████████| 15/15 [00:00<00:00, 220.32it/s]\n",
      "Feature Extraction: 100%|██████████| 15/15 [00:00<00:00, 239.99it/s]\n",
      "Feature Extraction: 100%|██████████| 15/15 [00:00<00:00, 244.83it/s]\n",
      "Feature Extraction: 100%|██████████| 15/15 [00:00<00:00, 237.91it/s]"
     ]
    },
    {
     "name": "stdout",
     "output_type": "stream",
     "text": [
      "17\n"
     ]
    },
    {
     "name": "stderr",
     "output_type": "stream",
     "text": [
      "\n",
      "Feature Extraction: 100%|██████████| 15/15 [00:00<00:00, 210.84it/s]\n",
      "Feature Extraction: 100%|██████████| 15/15 [00:00<00:00, 209.10it/s]\n",
      "Feature Extraction: 100%|██████████| 15/15 [00:00<00:00, 207.43it/s]\n",
      "Feature Extraction: 100%|██████████| 15/15 [00:00<00:00, 214.80it/s]\n",
      "Feature Extraction: 100%|██████████| 15/15 [00:00<00:00, 215.25it/s]\n",
      "Feature Extraction: 100%|██████████| 15/15 [00:00<00:00, 214.25it/s]"
     ]
    },
    {
     "name": "stdout",
     "output_type": "stream",
     "text": [
      "26\n"
     ]
    },
    {
     "name": "stderr",
     "output_type": "stream",
     "text": [
      "\n",
      "Feature Extraction: 100%|██████████| 15/15 [00:00<00:00, 242.14it/s]\n",
      "Feature Extraction: 100%|██████████| 15/15 [00:00<00:00, 240.04it/s]\n",
      "Feature Extraction: 100%|██████████| 15/15 [00:00<00:00, 246.19it/s]\n",
      "Feature Extraction: 100%|██████████| 15/15 [00:00<00:00, 240.77it/s]\n",
      "Feature Extraction: 100%|██████████| 15/15 [00:00<00:00, 238.91it/s]\n",
      "Feature Extraction: 100%|██████████| 15/15 [00:00<00:00, 244.66it/s]"
     ]
    },
    {
     "name": "stdout",
     "output_type": "stream",
     "text": [
      "31\n"
     ]
    },
    {
     "name": "stderr",
     "output_type": "stream",
     "text": [
      "\n",
      "Feature Extraction: 100%|██████████| 15/15 [00:00<00:00, 208.13it/s]\n",
      "Feature Extraction: 100%|██████████| 15/15 [00:00<00:00, 205.64it/s]\n",
      "Feature Extraction: 100%|██████████| 15/15 [00:00<00:00, 203.93it/s]\n",
      "Feature Extraction: 100%|██████████| 15/15 [00:00<00:00, 183.54it/s]\n",
      "Feature Extraction: 100%|██████████| 15/15 [00:00<00:00, 203.94it/s]\n",
      "Feature Extraction: 100%|██████████| 15/15 [00:00<00:00, 203.88it/s]"
     ]
    },
    {
     "name": "stdout",
     "output_type": "stream",
     "text": [
      "40\n"
     ]
    },
    {
     "name": "stderr",
     "output_type": "stream",
     "text": [
      "\n",
      "Feature Extraction: 100%|██████████| 15/15 [00:00<00:00, 208.44it/s]\n",
      "Feature Extraction: 100%|██████████| 15/15 [00:00<00:00, 210.32it/s]\n",
      "Feature Extraction: 100%|██████████| 15/15 [00:00<00:00, 212.97it/s]\n",
      "Feature Extraction: 100%|██████████| 15/15 [00:00<00:00, 209.76it/s]\n",
      "Feature Extraction: 100%|██████████| 15/15 [00:00<00:00, 216.67it/s]\n",
      "Feature Extraction: 100%|██████████| 15/15 [00:00<00:00, 208.78it/s]\n"
     ]
    }
   ],
   "source": [
    "for i in random_partitions:\n",
    "    print(i)\n",
    "    # now extract all features\n",
    "    feature_list = []\n",
    "\n",
    "    for col in columns_of_interest:\n",
    "        new_features = tsfresh.extract_features(timeseries_container=testing_partitions[i], column_id='window_id',\n",
    "                            column_value=col, default_fc_parameters=tsfresh.feature_extraction.MinimalFCParameters())\n",
    "        feature_list.append(new_features)\n",
    "\n",
    "    feature_list = pd.concat(feature_list, axis=1)\n",
    "    \n",
    "    feature_lists_test.append(feature_list)"
   ]
  },
  {
   "cell_type": "code",
   "execution_count": 50,
   "id": "ecb65db2-ac56-421d-a74b-2e973a640432",
   "metadata": {},
   "outputs": [
    {
     "data": {
      "text/html": [
       "<div>\n",
       "<style scoped>\n",
       "    .dataframe tbody tr th:only-of-type {\n",
       "        vertical-align: middle;\n",
       "    }\n",
       "\n",
       "    .dataframe tbody tr th {\n",
       "        vertical-align: top;\n",
       "    }\n",
       "\n",
       "    .dataframe thead th {\n",
       "        text-align: right;\n",
       "    }\n",
       "</style>\n",
       "<table border=\"1\" class=\"dataframe\">\n",
       "  <thead>\n",
       "    <tr style=\"text-align: right;\">\n",
       "      <th></th>\n",
       "      <th>activity_type</th>\n",
       "    </tr>\n",
       "    <tr>\n",
       "      <th>window_id</th>\n",
       "      <th></th>\n",
       "    </tr>\n",
       "  </thead>\n",
       "  <tbody>\n",
       "    <tr>\n",
       "      <th>0</th>\n",
       "      <td>Climbing stairs</td>\n",
       "    </tr>\n",
       "    <tr>\n",
       "      <th>1</th>\n",
       "      <td>Climbing stairs</td>\n",
       "    </tr>\n",
       "    <tr>\n",
       "      <th>2</th>\n",
       "      <td>Climbing stairs</td>\n",
       "    </tr>\n",
       "    <tr>\n",
       "      <th>3</th>\n",
       "      <td>Climbing stairs</td>\n",
       "    </tr>\n",
       "    <tr>\n",
       "      <th>4</th>\n",
       "      <td>Climbing stairs</td>\n",
       "    </tr>\n",
       "    <tr>\n",
       "      <th>...</th>\n",
       "      <td>...</td>\n",
       "    </tr>\n",
       "    <tr>\n",
       "      <th>18442</th>\n",
       "      <td>Lying down on back</td>\n",
       "    </tr>\n",
       "    <tr>\n",
       "      <th>18443</th>\n",
       "      <td>Lying down on back</td>\n",
       "    </tr>\n",
       "    <tr>\n",
       "      <th>18444</th>\n",
       "      <td>Lying down on back</td>\n",
       "    </tr>\n",
       "    <tr>\n",
       "      <th>18445</th>\n",
       "      <td>Lying down on back</td>\n",
       "    </tr>\n",
       "    <tr>\n",
       "      <th>18446</th>\n",
       "      <td>Lying down on back</td>\n",
       "    </tr>\n",
       "  </tbody>\n",
       "</table>\n",
       "<p>18098 rows × 1 columns</p>\n",
       "</div>"
      ],
      "text/plain": [
       "                activity_type\n",
       "window_id                    \n",
       "0             Climbing stairs\n",
       "1             Climbing stairs\n",
       "2             Climbing stairs\n",
       "3             Climbing stairs\n",
       "4             Climbing stairs\n",
       "...                       ...\n",
       "18442      Lying down on back\n",
       "18443      Lying down on back\n",
       "18444      Lying down on back\n",
       "18445      Lying down on back\n",
       "18446      Lying down on back\n",
       "\n",
       "[18098 rows x 1 columns]"
      ]
     },
     "execution_count": 50,
     "metadata": {},
     "output_type": "execute_result"
    }
   ],
   "source": [
    "training_partitions[4].groupby(\"window_id\")[['activity_type']].agg(np.min)\n",
    "# testing_partitions[4].groupby(\"window_id\")[['activity_type']].agg(np.min)"
   ]
  },
  {
   "cell_type": "code",
   "execution_count": 51,
   "id": "20b11b65-dc65-451f-8d0c-1c580288562f",
   "metadata": {},
   "outputs": [
    {
     "data": {
      "text/html": [
       "<div>\n",
       "<style scoped>\n",
       "    .dataframe tbody tr th:only-of-type {\n",
       "        vertical-align: middle;\n",
       "    }\n",
       "\n",
       "    .dataframe tbody tr th {\n",
       "        vertical-align: top;\n",
       "    }\n",
       "\n",
       "    .dataframe thead th {\n",
       "        text-align: right;\n",
       "    }\n",
       "</style>\n",
       "<table border=\"1\" class=\"dataframe\">\n",
       "  <thead>\n",
       "    <tr style=\"text-align: right;\">\n",
       "      <th></th>\n",
       "      <th>activity_type</th>\n",
       "    </tr>\n",
       "    <tr>\n",
       "      <th>window_id</th>\n",
       "      <th></th>\n",
       "    </tr>\n",
       "  </thead>\n",
       "  <tbody>\n",
       "    <tr>\n",
       "      <th>0</th>\n",
       "      <td>10</td>\n",
       "    </tr>\n",
       "    <tr>\n",
       "      <th>1</th>\n",
       "      <td>10</td>\n",
       "    </tr>\n",
       "    <tr>\n",
       "      <th>2</th>\n",
       "      <td>10</td>\n",
       "    </tr>\n",
       "    <tr>\n",
       "      <th>3</th>\n",
       "      <td>10</td>\n",
       "    </tr>\n",
       "    <tr>\n",
       "      <th>4</th>\n",
       "      <td>10</td>\n",
       "    </tr>\n",
       "    <tr>\n",
       "      <th>...</th>\n",
       "      <td>...</td>\n",
       "    </tr>\n",
       "    <tr>\n",
       "      <th>18442</th>\n",
       "      <td>7</td>\n",
       "    </tr>\n",
       "    <tr>\n",
       "      <th>18443</th>\n",
       "      <td>7</td>\n",
       "    </tr>\n",
       "    <tr>\n",
       "      <th>18444</th>\n",
       "      <td>7</td>\n",
       "    </tr>\n",
       "    <tr>\n",
       "      <th>18445</th>\n",
       "      <td>7</td>\n",
       "    </tr>\n",
       "    <tr>\n",
       "      <th>18446</th>\n",
       "      <td>7</td>\n",
       "    </tr>\n",
       "  </tbody>\n",
       "</table>\n",
       "<p>18098 rows × 1 columns</p>\n",
       "</div>"
      ],
      "text/plain": [
       "           activity_type\n",
       "window_id               \n",
       "0                     10\n",
       "1                     10\n",
       "2                     10\n",
       "3                     10\n",
       "4                     10\n",
       "...                  ...\n",
       "18442                  7\n",
       "18443                  7\n",
       "18444                  7\n",
       "18445                  7\n",
       "18446                  7\n",
       "\n",
       "[18098 rows x 1 columns]"
      ]
     },
     "execution_count": 51,
     "metadata": {},
     "output_type": "execute_result"
    }
   ],
   "source": [
    "window_id_class_labels_train_4 = training_partitions[4].groupby(\"window_id\")[['activity_type']].agg(np.min).replace(class_labels)\n",
    "window_id_class_labels_train_4"
   ]
  },
  {
   "cell_type": "code",
   "execution_count": 55,
   "id": "b895ec76",
   "metadata": {},
   "outputs": [
    {
     "data": {
      "text/html": [
       "<div>\n",
       "<style scoped>\n",
       "    .dataframe tbody tr th:only-of-type {\n",
       "        vertical-align: middle;\n",
       "    }\n",
       "\n",
       "    .dataframe tbody tr th {\n",
       "        vertical-align: top;\n",
       "    }\n",
       "\n",
       "    .dataframe thead th {\n",
       "        text-align: right;\n",
       "    }\n",
       "</style>\n",
       "<table border=\"1\" class=\"dataframe\">\n",
       "  <thead>\n",
       "    <tr style=\"text-align: right;\">\n",
       "      <th></th>\n",
       "      <th>activity_type</th>\n",
       "    </tr>\n",
       "    <tr>\n",
       "      <th>window_id</th>\n",
       "      <th></th>\n",
       "    </tr>\n",
       "  </thead>\n",
       "  <tbody>\n",
       "    <tr>\n",
       "      <th>5991</th>\n",
       "      <td>8</td>\n",
       "    </tr>\n",
       "    <tr>\n",
       "      <th>5992</th>\n",
       "      <td>8</td>\n",
       "    </tr>\n",
       "    <tr>\n",
       "      <th>5993</th>\n",
       "      <td>8</td>\n",
       "    </tr>\n",
       "    <tr>\n",
       "      <th>5994</th>\n",
       "      <td>8</td>\n",
       "    </tr>\n",
       "    <tr>\n",
       "      <th>5995</th>\n",
       "      <td>8</td>\n",
       "    </tr>\n",
       "    <tr>\n",
       "      <th>...</th>\n",
       "      <td>...</td>\n",
       "    </tr>\n",
       "    <tr>\n",
       "      <th>6335</th>\n",
       "      <td>6</td>\n",
       "    </tr>\n",
       "    <tr>\n",
       "      <th>6336</th>\n",
       "      <td>6</td>\n",
       "    </tr>\n",
       "    <tr>\n",
       "      <th>6337</th>\n",
       "      <td>6</td>\n",
       "    </tr>\n",
       "    <tr>\n",
       "      <th>6338</th>\n",
       "      <td>6</td>\n",
       "    </tr>\n",
       "    <tr>\n",
       "      <th>6339</th>\n",
       "      <td>6</td>\n",
       "    </tr>\n",
       "  </tbody>\n",
       "</table>\n",
       "<p>349 rows × 1 columns</p>\n",
       "</div>"
      ],
      "text/plain": [
       "           activity_type\n",
       "window_id               \n",
       "5991                   8\n",
       "5992                   8\n",
       "5993                   8\n",
       "5994                   8\n",
       "5995                   8\n",
       "...                  ...\n",
       "6335                   6\n",
       "6336                   6\n",
       "6337                   6\n",
       "6338                   6\n",
       "6339                   6\n",
       "\n",
       "[349 rows x 1 columns]"
      ]
     },
     "execution_count": 55,
     "metadata": {},
     "output_type": "execute_result"
    }
   ],
   "source": [
    "window_id_class_labels_test_4 = testing_partitions[4].groupby(\"window_id\")[['activity_type']].agg(np.min).replace(class_labels)\n",
    "window_id_class_labels_test_4"
   ]
  },
  {
   "cell_type": "code",
   "execution_count": 54,
   "id": "37e8a9ec-ee3f-4629-8ee2-a440945e94ba",
   "metadata": {},
   "outputs": [
    {
     "data": {
      "text/plain": [
       "{0, 1, 2, 3, 4, 5, 6, 7, 8, 9, 10, 11, 12, 13, 14, 15, 16, 17}"
      ]
     },
     "execution_count": 54,
     "metadata": {},
     "output_type": "execute_result"
    }
   ],
   "source": [
    "set(window_id_class_labels_train_4['activity_type'])"
   ]
  },
  {
   "cell_type": "code",
   "execution_count": 58,
   "id": "51bf59b8",
   "metadata": {},
   "outputs": [],
   "source": [
    "X_train_4 = feature_lists_train[0].to_numpy()\n",
    "X_test_4 = feature_lists_test[0].to_numpy()"
   ]
  },
  {
   "cell_type": "code",
   "execution_count": 63,
   "id": "2bdbaf3f",
   "metadata": {},
   "outputs": [],
   "source": [
    "y_train_4 = window_id_class_labels_train_4.to_numpy()\n",
    "y_test_4 = window_id_class_labels_test_4.to_numpy()"
   ]
  },
  {
   "cell_type": "code",
   "execution_count": 66,
   "id": "abcb3071",
   "metadata": {},
   "outputs": [
    {
     "data": {
      "text/plain": [
       "18447"
      ]
     },
     "execution_count": 66,
     "metadata": {},
     "output_type": "execute_result"
    }
   ],
   "source": [
    "len(y_train_4) + len(y_test_4)"
   ]
  },
  {
   "cell_type": "code",
   "execution_count": 77,
   "id": "06634bc2",
   "metadata": {},
   "outputs": [
    {
     "name": "stdout",
     "output_type": "stream",
     "text": [
      "0 1 2 3 4 "
     ]
    }
   ],
   "source": [
    "accuracy_scores = []\n",
    "\n",
    "rfc = RandomForestClassifier()\n",
    "\n",
    "for i in range(len(random_partitions)):\n",
    "    print(i, end=' ')\n",
    "    X_train = feature_lists_train[i].to_numpy()\n",
    "    X_test = feature_lists_test[i].to_numpy()\n",
    "    y_train = training_partitions[random_partitions[i]].groupby(\"window_id\")[['activity_type']].agg(np.min).replace(class_labels).to_numpy()\n",
    "    y_test = testing_partitions[random_partitions[i]].groupby(\"window_id\")[['activity_type']].agg(np.min).replace(class_labels).to_numpy()\n",
    "    rfc.fit(X_train, y_train.ravel())\n",
    "    y_pred = rfc.predict(X_test)\n",
    "    accuracy_scores.append(accuracy_score(y_test, y_pred))"
   ]
  },
  {
   "cell_type": "code",
   "execution_count": 81,
   "id": "444b2788-32f5-4421-b0d5-952130451811",
   "metadata": {},
   "outputs": [
    {
     "data": {
      "text/plain": [
       "[35.816618911174785,\n",
       " 60.591133004926114,\n",
       " 83.62068965517241,\n",
       " 32.098765432098766,\n",
       " 82.01970443349754]"
      ]
     },
     "execution_count": 81,
     "metadata": {},
     "output_type": "execute_result"
    }
   ],
   "source": [
    "[100*x for x in accuracy_scores]"
   ]
  },
  {
   "cell_type": "code",
   "execution_count": 82,
   "id": "c2de3645-d79c-4adf-9ffb-eaa28b45aa2b",
   "metadata": {},
   "outputs": [
    {
     "data": {
      "text/plain": [
       "0.5882938228737393"
      ]
     },
     "execution_count": 82,
     "metadata": {},
     "output_type": "execute_result"
    }
   ],
   "source": [
    "sum(accuracy_scores)/len(accuracy_scores)"
   ]
  },
  {
   "cell_type": "code",
   "execution_count": 145,
   "id": "ca176369-da29-4714-99e6-56e673a5b0ea",
   "metadata": {},
   "outputs": [],
   "source": [
    "filters = 64\n",
    "kernel_size = 3\n",
    "n_features = 6\n",
    "activation='sigmoid'\n",
    "n_classes = 18"
   ]
  },
  {
   "cell_type": "code",
   "execution_count": 146,
   "id": "6aee23b5",
   "metadata": {},
   "outputs": [
    {
     "data": {
      "text/plain": [
       "50"
      ]
     },
     "execution_count": 146,
     "metadata": {},
     "output_type": "execute_result"
    }
   ],
   "source": [
    "window_size"
   ]
  },
  {
   "cell_type": "code",
   "execution_count": 150,
   "id": "45ed0b1f-c6b8-416c-bed7-b6e81d247228",
   "metadata": {},
   "outputs": [
    {
     "name": "stdout",
     "output_type": "stream",
     "text": [
      "Model: \"sequential_7\"\n",
      "_________________________________________________________________\n",
      "Layer (type)                 Output Shape              Param #   \n",
      "=================================================================\n",
      "conv1d_16 (Conv1D)           (None, 48, 64)            1216      \n",
      "_________________________________________________________________\n",
      "batch_normalization_16 (Batc (None, 48, 64)            256       \n",
      "_________________________________________________________________\n",
      "activation_16 (Activation)   (None, 48, 64)            0         \n",
      "_________________________________________________________________\n",
      "dropout_8 (Dropout)          (None, 48, 64)            0         \n",
      "_________________________________________________________________\n",
      "conv1d_17 (Conv1D)           (None, 46, 64)            12352     \n",
      "_________________________________________________________________\n",
      "batch_normalization_17 (Batc (None, 46, 64)            256       \n",
      "_________________________________________________________________\n",
      "activation_17 (Activation)   (None, 46, 64)            0         \n",
      "_________________________________________________________________\n",
      "dropout_9 (Dropout)          (None, 46, 64)            0         \n",
      "_________________________________________________________________\n",
      "conv1d_18 (Conv1D)           (None, 44, 64)            12352     \n",
      "_________________________________________________________________\n",
      "batch_normalization_18 (Batc (None, 44, 64)            256       \n",
      "_________________________________________________________________\n",
      "activation_18 (Activation)   (None, 44, 64)            0         \n",
      "_________________________________________________________________\n",
      "flatten_5 (Flatten)          (None, 2816)              0         \n",
      "_________________________________________________________________\n",
      "dense_10 (Dense)             (None, 100)               281700    \n",
      "_________________________________________________________________\n",
      "dense_11 (Dense)             (None, 18)                1818      \n",
      "=================================================================\n",
      "Total params: 310,206\n",
      "Trainable params: 309,822\n",
      "Non-trainable params: 384\n",
      "_________________________________________________________________\n"
     ]
    }
   ],
   "source": [
    "model = Sequential()\n",
    "\n",
    "model.add(Conv1D(filters=filters, kernel_size=kernel_size, activation='sigmoid', \n",
    "                 input_shape=(window_size, n_features)))\n",
    "model.add(BatchNormalization())\n",
    "model.add(Activation(activation))\n",
    "\n",
    "model.add(Dropout(0.4))\n",
    "\n",
    "model.add(Conv1D(filters=filters, kernel_size=kernel_size, activation='sigmoid'))\n",
    "model.add(BatchNormalization())\n",
    "model.add(Activation(activation))\n",
    "\n",
    "model.add(Dropout(0.4))\n",
    "\n",
    "model.add(Conv1D(filters=filters, kernel_size=kernel_size, activation='sigmoid'))\n",
    "model.add(BatchNormalization())\n",
    "model.add(Activation(activation))\n",
    "\n",
    "model.add(Flatten())\n",
    "model.add(Dense(100, activation='sigmoid'))\n",
    "model.add(Dense(n_classes, activation='softmax'))\n",
    "\n",
    "model.compile(\n",
    "    optimizer=optimizers.SGD(lr=0.1, momentum=0.9),\n",
    "    loss='binary_crossentropy',\n",
    "    metrics = ['accuracy'])\n",
    "\n",
    "model.summary()"
   ]
  },
  {
   "cell_type": "code",
   "execution_count": 151,
   "id": "7bb2c7fb-f0fd-4d8a-9c24-71e62813a134",
   "metadata": {},
   "outputs": [],
   "source": [
    "X_train = []\n",
    "y_train = []\n",
    "\n",
    "for window_id, group in training_partitions[40].groupby('window_id'):\n",
    "    # print(f\"window_id = {window_id}\")\n",
    "    shape = group[columns_of_interest].values.shape\n",
    "    # print(f\"shape = {shape}\")    \n",
    "    X_train.append(group[columns_of_interest].values)\n",
    "    y_train.append(class_labels[group[\"activity_type\"].values[0]])"
   ]
  },
  {
   "cell_type": "code",
   "execution_count": 152,
   "id": "344e2d8f-6e78-4cce-973f-28e9b4607ad5",
   "metadata": {},
   "outputs": [
    {
     "name": "stdout",
     "output_type": "stream",
     "text": [
      "X train shape = (18041, 50, 6)\n",
      "y train shape = (18041,)\n"
     ]
    }
   ],
   "source": [
    "X_train = np.asarray(X_train)\n",
    "y_train = np.asarray(y_train)\n",
    "\n",
    "print(f\"X train shape = {X_train.shape}\")\n",
    "print(f\"y train shape = {y_train.shape}\")"
   ]
  },
  {
   "cell_type": "code",
   "execution_count": 153,
   "id": "db6e0d93",
   "metadata": {},
   "outputs": [],
   "source": [
    "X_test = []\n",
    "y_test = []\n",
    "\n",
    "for window_id, group in testing_partitions[40].groupby('window_id'):\n",
    "    # print(f\"window_id = {window_id}\")\n",
    "    shape = group[columns_of_interest].values.shape\n",
    "    # print(f\"shape = {shape}\")    \n",
    "    X_test.append(group[columns_of_interest].values)\n",
    "    y_test.append(class_labels[group[\"activity_type\"].values[0]])"
   ]
  },
  {
   "cell_type": "code",
   "execution_count": 154,
   "id": "e4bc6a3a",
   "metadata": {},
   "outputs": [
    {
     "name": "stdout",
     "output_type": "stream",
     "text": [
      "X test shape = (406, 50, 6)\n",
      "y test shape = (406,)\n"
     ]
    }
   ],
   "source": [
    "X_test = np.asarray(X_test)\n",
    "y_test = np.asarray(y_test)\n",
    "\n",
    "print(f\"X test shape = {X_test.shape}\")\n",
    "print(f\"y test shape = {y_test.shape}\")"
   ]
  },
  {
   "cell_type": "code",
   "execution_count": 155,
   "id": "a0c4c49c-776a-46d1-be4c-57286c5c9bbe",
   "metadata": {},
   "outputs": [],
   "source": [
    "y_train = np.asarray(pd.get_dummies(y_train), dtype=np.float32)\n",
    "y_test = np.asarray(pd.get_dummies(y_test), dtype=np.float32)"
   ]
  },
  {
   "cell_type": "code",
   "execution_count": 156,
   "id": "3150fca5-3d06-4ba1-a1af-0799cb4cb837",
   "metadata": {},
   "outputs": [
    {
     "name": "stdout",
     "output_type": "stream",
     "text": [
      "X_train shape = (18041, 50, 6)\n",
      "y_train shape = (18041, 18)\n",
      "X_test shape = (406, 50, 6)\n",
      "y_test shape = (406, 14)\n"
     ]
    }
   ],
   "source": [
    "print(f\"X_train shape = {X_train.shape}\")\n",
    "print(f\"y_train shape = {y_train.shape}\")\n",
    "\n",
    "print(f\"X_test shape = {X_test.shape}\")\n",
    "print(f\"y_test shape = {y_test.shape}\")"
   ]
  },
  {
   "cell_type": "code",
   "execution_count": 157,
   "id": "a4142e62-8b60-44f6-abaf-fce063e9f873",
   "metadata": {},
   "outputs": [
    {
     "name": "stdout",
     "output_type": "stream",
     "text": [
      "Epoch 1/5\n",
      "564/564 [==============================] - 13s 22ms/step - loss: 0.2221 - accuracy: 0.0714\n",
      "Epoch 2/5\n",
      "564/564 [==============================] - 15s 27ms/step - loss: 0.2024 - accuracy: 0.0736\n",
      "Epoch 3/5\n",
      "564/564 [==============================] - 18s 32ms/step - loss: 0.2022 - accuracy: 0.0701\n",
      "Epoch 4/5\n",
      "564/564 [==============================] - 11s 19ms/step - loss: 0.2016 - accuracy: 0.0811\n",
      "Epoch 5/5\n",
      "564/564 [==============================] - 15s 26ms/step - loss: 0.1922 - accuracy: 0.1876\n"
     ]
    },
    {
     "data": {
      "text/plain": [
       "<tensorflow.python.keras.callbacks.History at 0x7f24bc9324c0>"
      ]
     },
     "execution_count": 157,
     "metadata": {},
     "output_type": "execute_result"
    }
   ],
   "source": [
    "model.fit(X_train, y_train, epochs=5)"
   ]
  },
  {
   "cell_type": "code",
   "execution_count": 158,
   "id": "eacc0541-4cc2-4518-b3ff-9446c9f2f344",
   "metadata": {},
   "outputs": [],
   "source": [
    "# stats\n",
    "y_pred_ohe = model.predict(X_test)\n",
    "y_pred_labels = np.argmax(y_pred_ohe, axis=1)\n",
    "y_true_labels = np.argmax(y_test, axis=1)"
   ]
  },
  {
   "cell_type": "code",
   "execution_count": 159,
   "id": "182a5e92-6adf-4030-9880-c1cb4e332f81",
   "metadata": {},
   "outputs": [
    {
     "name": "stdout",
     "output_type": "stream",
     "text": [
      "********************************************************************************\n",
      "Classification report\n",
      "********************************************************************************\n",
      "              precision    recall  f1-score   support\n",
      "\n",
      "           0       0.00      0.00      0.00      29.0\n",
      "           1       0.00      0.00      0.00      29.0\n",
      "           2       0.00      0.00      0.00      29.0\n",
      "           3       0.00      0.00      0.00      29.0\n",
      "           4       0.00      0.00      0.00      29.0\n",
      "           5       0.00      0.00      0.00      29.0\n",
      "           6       0.00      0.00      0.00      29.0\n",
      "           7       0.00      0.00      0.00      29.0\n",
      "           8       0.00      0.00      0.00      29.0\n",
      "           9       0.00      0.00      0.00      29.0\n",
      "          10       0.00      0.00      0.00      29.0\n",
      "          11       0.00      0.00      0.00      29.0\n",
      "          12       0.00      0.00      0.00      29.0\n",
      "          13       0.00      0.00      0.00      29.0\n",
      "          14       0.00      0.00      0.00       0.0\n",
      "          15       0.00      0.00      0.00       0.0\n",
      "          16       0.00      0.00      0.00       0.0\n",
      "\n",
      "    accuracy                           0.00     406.0\n",
      "   macro avg       0.00      0.00      0.00     406.0\n",
      "weighted avg       0.00      0.00      0.00     406.0\n",
      "\n"
     ]
    },
    {
     "name": "stderr",
     "output_type": "stream",
     "text": [
      "/afs/inf.ed.ac.uk/user/s18/s1894401/anaconda3/lib/python3.8/site-packages/sklearn/metrics/_classification.py:1245: UndefinedMetricWarning: Precision and F-score are ill-defined and being set to 0.0 in labels with no predicted samples. Use `zero_division` parameter to control this behavior.\n",
      "  _warn_prf(average, modifier, msg_start, len(result))\n",
      "/afs/inf.ed.ac.uk/user/s18/s1894401/anaconda3/lib/python3.8/site-packages/sklearn/metrics/_classification.py:1245: UndefinedMetricWarning: Recall and F-score are ill-defined and being set to 0.0 in labels with no true samples. Use `zero_division` parameter to control this behavior.\n",
      "  _warn_prf(average, modifier, msg_start, len(result))\n",
      "/afs/inf.ed.ac.uk/user/s18/s1894401/anaconda3/lib/python3.8/site-packages/sklearn/metrics/_classification.py:1245: UndefinedMetricWarning: Precision and F-score are ill-defined and being set to 0.0 in labels with no predicted samples. Use `zero_division` parameter to control this behavior.\n",
      "  _warn_prf(average, modifier, msg_start, len(result))\n",
      "/afs/inf.ed.ac.uk/user/s18/s1894401/anaconda3/lib/python3.8/site-packages/sklearn/metrics/_classification.py:1245: UndefinedMetricWarning: Recall and F-score are ill-defined and being set to 0.0 in labels with no true samples. Use `zero_division` parameter to control this behavior.\n",
      "  _warn_prf(average, modifier, msg_start, len(result))\n",
      "/afs/inf.ed.ac.uk/user/s18/s1894401/anaconda3/lib/python3.8/site-packages/sklearn/metrics/_classification.py:1245: UndefinedMetricWarning: Precision and F-score are ill-defined and being set to 0.0 in labels with no predicted samples. Use `zero_division` parameter to control this behavior.\n",
      "  _warn_prf(average, modifier, msg_start, len(result))\n",
      "/afs/inf.ed.ac.uk/user/s18/s1894401/anaconda3/lib/python3.8/site-packages/sklearn/metrics/_classification.py:1245: UndefinedMetricWarning: Recall and F-score are ill-defined and being set to 0.0 in labels with no true samples. Use `zero_division` parameter to control this behavior.\n",
      "  _warn_prf(average, modifier, msg_start, len(result))\n"
     ]
    }
   ],
   "source": [
    "print(\"*\" * 80)\n",
    "print(\"Classification report\")\n",
    "print(\"*\" * 80)\n",
    "print(classification_report(y_true_labels, y_pred_labels))"
   ]
  },
  {
   "cell_type": "code",
   "execution_count": null,
   "id": "7e1a2852-4b08-4f52-9157-7937f3790469",
   "metadata": {},
   "outputs": [],
   "source": []
  }
 ],
 "metadata": {
  "kernelspec": {
   "display_name": "Python 3",
   "language": "python",
   "name": "python3"
  },
  "language_info": {
   "codemirror_mode": {
    "name": "ipython",
    "version": 3
   },
   "file_extension": ".py",
   "mimetype": "text/x-python",
   "name": "python",
   "nbconvert_exporter": "python",
   "pygments_lexer": "ipython3",
   "version": "3.8.8"
  }
 },
 "nbformat": 4,
 "nbformat_minor": 5
}
